{
 "cells": [
  {
   "cell_type": "markdown",
   "metadata": {},
   "source": [
    "### To view a 'live' version of a notebook:\n",
    "\n",
    "1. Use the MyBinder link and wait for server to load, or install Jupyter locally, download and open the notebook.\n",
    "2. Make sure notebook is 'trusted' (if not; click 'not trusted' in toolbar and select 'trusted').\n",
    "3. Run all code blocks in the order they are presented here, especially the first code block (imports necessary libraries). \n",
    "  Note: Much code depends on functions defined in previous code blocks (but not all). Simply running a code block may not ensure all functions it includes are defined, since some may not run until an input is provided; i.e. 'fully running' a code block includes providing satisfactory input(s) and the production of all related output(s).\n",
    "4. MyBinder provides only 30 minutes maximum of access. Reload if time expires.<br>\n",
    "<br>\n",
    "This notebook does not have a 'live' MyBinder link (since it is a simple text-only document)."
   ]
  },
  {
   "cell_type": "code",
   "execution_count": null,
   "metadata": {
    "collapsed": true
   },
   "outputs": [],
   "source": []
  }
 ],
 "metadata": {
  "kernelspec": {
   "display_name": "Python 3",
   "language": "python",
   "name": "python3"
  },
  "language_info": {
   "codemirror_mode": {
    "name": "ipython",
    "version": 3
   },
   "file_extension": ".py",
   "mimetype": "text/x-python",
   "name": "python",
   "nbconvert_exporter": "python",
   "pygments_lexer": "ipython3",
   "version": "3.6.3"
  }
 },
 "nbformat": 4,
 "nbformat_minor": 2
}
