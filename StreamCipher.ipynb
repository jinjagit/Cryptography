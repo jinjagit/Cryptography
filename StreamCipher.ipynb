{
 "cells": [
  {
   "cell_type": "markdown",
   "metadata": {},
   "source": [
    "<a id='top'></a>\n",
    "\n",
    "<h1>Stream Cipher</h1>\n",
    "<br>\n",
    "Notes on Lecture 3, [Introduction to Cryptography](https://www.youtube.com/channel/UC1usFRN4LCMcfIV7UjHNuQg/videos), by Christof Paar, and Chapter 2, [Understanding Crpytography](https://www.amazon.com/Understanding-Cryptography-Christof-Paar-ebook/dp/B00HWUO98A), by Paar & Pletzl:<br>\n",
    "<br>\n",
    "Note: Many notebook functions and diagrams are unavailable /  will not display in static views (like GitHub). [View 'live' on MyBinder](https://mybinder.org/v2/gh/jinjagit/Cryptography/master?filepath=StreamCipher.ipynb)"
   ]
  },
  {
   "cell_type": "code",
   "execution_count": null,
   "metadata": {
    "collapsed": true
   },
   "outputs": [],
   "source": [
    "# Run this code cell for help on using 'live' notebooks\n",
    "f = open('HowTo.txt', 'r'); data = f.read(); print(data)"
   ]
  },
  {
   "cell_type": "markdown",
   "metadata": {},
   "source": [
    "## Contents:\n",
    "<a href='#intro'>Introduction</a><br>\n",
    "<a href='#rngs'>Random Number Generators</a><br>\n",
    "<a href='#one_time'>The One Time Pad</a><br>\n",
    "<a href='#lcg'>Linear Congruential Generator (LCG)</a><br>\n",
    "<a href='#dvpa'>Decrypting the LCG Stream Cipher (via plaintext attack)</a><br>\n",
    "<a href='#eea'>Extended Euclidean Algorithm and Modular Inverse</a><br>"
   ]
  },
  {
   "cell_type": "markdown",
   "metadata": {},
   "source": [
    "**NOTE: The following code should be run before other code in this notebook is run** (imports necessary libraries):"
   ]
  },
  {
   "cell_type": "code",
   "execution_count": 1,
   "metadata": {},
   "outputs": [
    {
     "name": "stdout",
     "output_type": "stream",
     "text": [
      "libraries imported\n"
     ]
    }
   ],
   "source": [
    "%matplotlib inline \n",
    "import matplotlib\n",
    "import matplotlib.pyplot as plt\n",
    "import numpy as np\n",
    "import pandas as pd\n",
    "from ipywidgets import interact,FloatSlider,IntSlider # Unused, as yet\n",
    "from IPython.display import HTML as html_print\n",
    "\n",
    "print(\"libraries imported\")  # <- run and wait until output prints; may take a few seconds to run."
   ]
  },
  {
   "cell_type": "markdown",
   "metadata": {},
   "source": [
    "<a id='intro'></a>\n",
    "## Introduction:"
   ]
  },
  {
   "cell_type": "markdown",
   "metadata": {},
   "source": [
    "<center><img src=diagrams/CryptoTree.svg / ></center>"
   ]
  },
  {
   "cell_type": "markdown",
   "metadata": {},
   "source": [
    "Note: GSM is used by all mobile phones, was developed in mid 1980s, and was first large-scale application of encrytpion. GSM uses a stream cipher to encrypt digital voice (audio) signals before transmitting to base towers."
   ]
  },
  {
   "cell_type": "markdown",
   "metadata": {},
   "source": [
    "**Definition:** A stream cipher encrypts bits individually (as against a block cipher, which encodes blocks of bits), **by adding a bit from a <i>key stream</i> to a plaintext bit.**"
   ]
  },
  {
   "cell_type": "markdown",
   "metadata": {},
   "source": [
    "Usually, stream ciphers use very simple encrytption and decryption methods."
   ]
  },
  {
   "cell_type": "markdown",
   "metadata": {},
   "source": [
    "Each bit $x_i$ is encrypted by adding a secret key stream bit $s_i$, modulo 2."
   ]
  },
  {
   "cell_type": "markdown",
   "metadata": {
    "collapsed": true
   },
   "source": [
    "<center><img src=diagrams/asynchStream.svg / ></center>"
   ]
  },
  {
   "cell_type": "markdown",
   "metadata": {
    "collapsed": true
   },
   "source": [
    "Stream ciphers tend to be small and fast and are, therefore, relevant to applications that run in environments with relatively limited resources. In general, however, block ciphers are still used more frequenly for encrytping computer communications. Neither kind can claim better overall efficiency (of software = cycles; or hardware = fewer gates/smaller chip area)."
   ]
  },
  {
   "cell_type": "markdown",
   "metadata": {},
   "source": [
    "#### Encryption and Decryption:\n",
    "<i>The plaintext, ciphertext and key consist of individual bits;</i>\n",
    "\n",
    "$x_i, y_i, s_i\\in\\{1, 0\\}$\n",
    "\n",
    "**Encryption:** $y_i = e_{s_i}(x_i)\\equiv x_i + s_i\\mod{2}$<br></br>\n",
    "**Decryption:** $x_i = d_{s_i}(y_i)\\equiv y_i + s_i\\mod{2}$"
   ]
  },
  {
   "cell_type": "markdown",
   "metadata": {},
   "source": [
    "  1. Encryption and decryption are same functions!\n",
    "  2. Why can we use a simple modulo 2 addition as encrytpion?\n",
    "  3. What is the nature of the stream bits $s_i$?"
   ]
  },
  {
   "cell_type": "markdown",
   "metadata": {},
   "source": [
    "**Proof:** that decryption uses same algorithm as encryption, by substitution of $y_i$ in decryption algorithm with the encryption algorithm, $x_i + s_i$ and further reduction of the resultant expression, thus:<br>\n",
    "<br>\n",
    "$d_{s_i}(y_i)\\equiv y_i + s_i\\mod{2}$ <br>\n",
    "$d_{s_i}(y_i)\\equiv (x_i + s_i) + s_i\\mod{2}$ <br>\n",
    "$d_{s_i}(y_i)\\equiv x_i + 2s_i\\mod{2}$ <br>\n",
    "$d_{s_i}(y_i)\\equiv x_i + 0\\mod{2}$ <br>\n",
    "$d_{s_i}(y_i)\\equiv x_i\\mod{2} \\;\\blacksquare$"
   ]
  },
  {
   "cell_type": "markdown",
   "metadata": {},
   "source": [
    "Thus, the reason that we can use simple modulo 2 addition as decryption, (as well as encryption), is that $x_i, y_i, s_i \\in\\{1, 0\\}$, and $x_i, y_i, s_i \\in Z 2$. In other words, because they are all single bits they can only have values of either $0$, or $1$."
   ]
  },
  {
   "cell_type": "markdown",
   "metadata": {},
   "source": [
    "**RULE:** Modulo 2 addition and subtraction are the same operation."
   ]
  },
  {
   "cell_type": "code",
   "execution_count": null,
   "metadata": {},
   "outputs": [],
   "source": [
    "# calculates a+b mod 2, and a-b mod 2\n",
    "\n",
    "a = int(input(\"enter 1st integer: \"))\n",
    "b = int(input(\"enter 2nd integer: \"))\n",
    "\n",
    "c = (a + b) % 2\n",
    "d = (a - b) % 2\n",
    "\n",
    "print(\"%d + %d, modulo 2 = %d\" % (a, b, c))\n",
    "print(\"%d - %d, modulo 2 = %d\" % (a, b, d))"
   ]
  },
  {
   "cell_type": "markdown",
   "metadata": {},
   "source": [
    "Thus, $\\;\\;\\;\\;d_{s_i}(y_i)\\equiv y_i + s_i\\mod{2}\\;\\;\\;\\;$ and $\\;\\;\\;\\;d_{s_i}(y_i)\\equiv y_i - s_i\\mod{2}\\;\\;\\;\\;$are equivalent."
   ]
  },
  {
   "cell_type": "markdown",
   "metadata": {},
   "source": [
    "Consider the truth table for $x$, $s$ and $y$:\n",
    "\n",
    "|        |  x  |  s  |  y = x + s  |  y = x - s  |\n",
    "|--------|-----|-----|-------------|-------------|\n",
    "| case 1 |  0  |  0  |      0      |      0      |\n",
    "| case 2 |  0  |  1  |      1      |      1      |\n",
    "| case 3 |  1  |  0  |      1      |      1      |\n",
    "| case 4 |  1  |  1  |      0      |      0      |"
   ]
  },
  {
   "cell_type": "markdown",
   "metadata": {},
   "source": [
    "The above represents an [XOR](https://en.wikipedia.org/wiki/XOR_gate) binary gate, executed using either addition or subtraction in modulo 2.<br>\n",
    "An XOR gate implements an **exclusive or**; that is, a true output results if one, and only one, of the inputs to the gate is true."
   ]
  },
  {
   "cell_type": "markdown",
   "metadata": {},
   "source": [
    "Idea: To apply modulo 2 to any binary integer value, we need only read the value of the last bit, (0 or 1), which gives the modulo 2 value of the integer. Not a great insight, as really it is another way of saying that the nature of binary means the 'units' digit of any integer will equal the modulo 2 value. This is true of the units digit for any base where a modulo of the same value as the base is applied (e.g. base 10 modulo 10). With binary, however, there is also the advantage that reading a single bit from memory is probably generally faster than doing modulo math on an integer. However, <i>I imagine</i> most decent math libraries / languages exploit this fact when performing modulo 2 math on an integer (but, I do not know this)."
   ]
  },
  {
   "cell_type": "code",
   "execution_count": null,
   "metadata": {},
   "outputs": [],
   "source": [
    "# compare modulo 2 representation of an integer with the last digit of its binary representation\n",
    "\n",
    "a = int(input(\"enter integer: \"))\n",
    "\n",
    "get_binary = lambda x: format(x, 'b') # useful function for converting integer to binary string\n",
    "\n",
    "binary = get_binary(a)\n",
    "last_digit = binary[-1:]\n",
    "mod2 = a % 2\n",
    "\n",
    "print(\"binary representation: \" + binary)\n",
    "print(\"last binary digit: \" + last_digit)\n",
    "print(\"%d modulo 2 = %d modulo 2\" % (a, mod2))"
   ]
  },
  {
   "cell_type": "markdown",
   "metadata": {
    "collapsed": true
   },
   "source": [
    "<center><img src=diagrams/streamBasic.svg / ></center>"
   ]
  },
  {
   "cell_type": "markdown",
   "metadata": {
    "collapsed": true
   },
   "source": [
    "Considering the above truth table and its consequences, we can see that <i>if the probability of any stream bit $\\mathit{s_i}$ being $\\mathit{1}$ or $\\mathit{0}$ is equal,</i> then the encoding of either $x_i = 0$, or $x_i = 1$, has an equal chance of giving $y_i = 0$, or $y_i = 1$, in either case.\n",
    "#### Flipping bits:\n",
    "Also, the value of the keystream bit has a particular effect on the plaintext $x$ value provided: $s = 1$ will always flip the input bit; $0\\,\\to\\,1$, or $1\\,\\to\\,0$, whereas $s = 0$ will not change the input bit.<br>\n",
    "  As there are two modulo 2 addition (XOR) operations in the encoding/decoding stream, each using $s_i$ to enccode $x_i$ and decode $y_i$, $x_i$ is eventually either flipped twice; if $s_i =1$, or not at all; if $s_i =0$."
   ]
  },
  {
   "cell_type": "code",
   "execution_count": 6,
   "metadata": {},
   "outputs": [
    {
     "data": {
      "text/html": [
       "encrypt <text style=color:blue;background-color:blue>.</text><text style=color:white;background-color:blue>0</text><text style=color:blue;background-color:blue>.</text> with s = 0 -> 0 ... decrypt 0 with s = 0 -> <text style=color:blue;background-color:blue>.</text><text style=color:white;background-color:blue>0</text><text style=color:blue;background-color:blue>.</text></br>encrypt <text style=color:blue;background-color:blue>.</text><text style=color:white;background-color:blue>1</text><text style=color:blue;background-color:blue>.</text> with s = 0 -> 1 ... decrypt 1 with s = 0 -> <text style=color:blue;background-color:blue>.</text><text style=color:white;background-color:blue>1</text><text style=color:blue;background-color:blue>.</text></br>encrypt <text style=color:blue;background-color:blue>.</text><text style=color:white;background-color:blue>0</text><text style=color:blue;background-color:blue>.</text> with s = 1 -> 1 ... decrypt 1 with s = 1 -> <text style=color:blue;background-color:blue>.</text><text style=color:white;background-color:blue>0</text><text style=color:blue;background-color:blue>.</text></br>encrypt <text style=color:blue;background-color:blue>.</text><text style=color:white;background-color:blue>1</text><text style=color:blue;background-color:blue>.</text> with s = 1 -> 0 ... decrypt 0 with s = 1 -> <text style=color:blue;background-color:blue>.</text><text style=color:white;background-color:blue>1</text><text style=color:blue;background-color:blue>.</text>"
      ],
      "text/plain": [
       "<IPython.core.display.HTML object>"
      ]
     },
     "execution_count": 6,
     "metadata": {},
     "output_type": "execute_result"
    }
   ],
   "source": [
    "# XOR on 4 cases of x + s, applied twice to emulate encryption and decryption of single bits.\n",
    "# Note the replacement of modular arithmetic with a single XOR operation.\n",
    "\n",
    "def get_XOR(x, s):\n",
    "    if x == s:\n",
    "        return 0\n",
    "\n",
    "    return 1\n",
    "\n",
    "a = str(get_XOR(0,0))  \n",
    "b = str(get_XOR(1,0)) \n",
    "c = str(get_XOR(0,1)) \n",
    "d = str(get_XOR(1,1)) \n",
    "\n",
    "def col_str(s):  # use html to print color output (white text on blue background)\n",
    "    return \"<text style=color:white;background-color:blue>{}</text>\".format(s)\n",
    "\n",
    "def bl_sp(s):  # use html to print blue space (blue text on blue background)\n",
    "    return \"<text style=color:blue;background-color:blue>{}</text>\".format(s)\n",
    "\n",
    "html_print(\"encrypt \" + bl_sp('.') + col_str('0') + bl_sp('.') + \" with s = 0 -> \" + a +  \n",
    "           \" ... decrypt \" + a + \" with s = 0 -> \" + bl_sp('.') + col_str(a) + bl_sp('.') + \"</br>\"\n",
    "           + \"encrypt \" + bl_sp('.') + col_str('1') + bl_sp('.') + \" with s = 0 -> \" + b +\n",
    "           \" ... decrypt \" + b + \" with s = 0 -> \" + bl_sp('.') + col_str(b) + bl_sp('.') + \"</br>\"\n",
    "           + \"encrypt \" + bl_sp('.') + col_str('0') + bl_sp('.') + \" with s = 1 -> \" + c +\n",
    "           \" ... decrypt \" + c + \" with s = 1 -> \" + bl_sp('.') + col_str(d) + bl_sp('.') + \"</br>\"\n",
    "           + \"encrypt \" + bl_sp('.') + col_str('1') + bl_sp('.') + \" with s = 1 -> \" + d +\n",
    "           \" ... decrypt \" + d + \" with s = 1 -> \" + bl_sp('.') + col_str(c) + bl_sp('.'))               "
   ]
  },
  {
   "cell_type": "markdown",
   "metadata": {},
   "source": [
    "Example: Encoding the ASCII character \"A\":\n",
    "\n",
    "It's number 65 in the ASCII table, which is 1000001 in binary.\n",
    "We apply a pre-defined stream of 0101101:\n",
    "\n",
    "$x_7...x_1$ $= 1000001$ <br>\n",
    "$s_7...s_1$ $= 0101101$"
   ]
  },
  {
   "cell_type": "code",
   "execution_count": null,
   "metadata": {},
   "outputs": [],
   "source": [
    "# Encrypting an ASCII 'A' in binary (requires previous code cell to have run)\n",
    "\n",
    "def encr_bin_str(data_in, key_stream): # N.B. Since encryption only uses XOR, the same function also decrypts\n",
    "    encoded = \"\"\n",
    "    for i in range(len(data_in) * -1, 0):\n",
    "        encoded = encoded + str(get_XOR(data_in[i], key_stream[i]))\n",
    "        \n",
    "    return encoded\n",
    "\n",
    "data_in = \"1000001\"\n",
    "key_stream = \"0101101\"\n",
    "\n",
    "encoded = encr_bin_str(data_in, key_stream)\n",
    "print(\"data in = %s, after encryption = %s\" % (data_in, encoded))\n",
    "decoded = encr_bin_str(encoded, key_stream)  # note use of encryption algo to decrypt\n",
    "print(\"encoded = %s, after decryption = %s\" % (encoded, decoded))"
   ]
  },
  {
   "cell_type": "markdown",
   "metadata": {},
   "source": [
    "<a id='rngs'></a>\n",
    "**Fundamental issue:** The generation of key stream bits needs to be _somehow_ related to randomness.<br>\n",
    "<h2>Random Number Generators (RNG):</h2><br>\n",
    "Three main types:<br>\n",
    "  1. #### True Random Number Generator (TRNG):\n",
    "  True random numbers stem from randomness in some physical processes; E.g. Flipping a coin, roulette, noise (thermal), computer mouse movement, keystroke timing, radioactive decay, etc. The lack of repeatability of such randomness makes TRNG problematic for key generation (including of key streams).\n",
    "  2. #### Pseudo-random Number Generator (PRNG):\n",
    "  PRNs are computed and, therefore, deterministic (not random). From certain points of view, however, they may _appear_ random (unpredictable). Generally, they are not adequate for cryptographic use, despite being useful in many other areas of computing (e.g. some software testing). In practice, the output from many common PRNGs exhibit artifacts that cause them to fail statistical pattern-detection tests [[Wikipedia]](https://en.wikipedia.org/wiki/Pseudorandom_number_generator). They  often calculate PRNs using the formula; $s_0 =$ seed, $s_{i+1} = f(s_i)$, recursively repeated.\n",
    "  3. #### Cryptographically Secure PRNG (CPRNG):\n",
    "  Also computed and uses an update function (recursion), like a PRNG, but additonally have the property that the numbers they produce <i>are</i> unpredictable. Specifically, this means that given $n$ consecutive bits of the key stream, there is no [polynomial time](http://mathworld.wolfram.com/PolynomialTime.html) algorithm that can predict the next bit $s_{n+1}$ with better than 50% chance of success. Informally, this definition is reduced to: it is computationally infeasible to compute $s_{n+1}$."
   ]
  },
  {
   "cell_type": "code",
   "execution_count": null,
   "metadata": {},
   "outputs": [],
   "source": [
    "# Emulating rand() function in ANSI C, a linear congruential generator (LCG) generator (a type of PRNG). Fails if seed = 0.\n",
    "# Based on code from: http://pubs.opengroup.org/onlinepubs/009695399/functions/rand.html\n",
    "\n",
    "x = int(input(\"enter a seed value (an integer): \"))\n",
    "keystream = list(range(10))\n",
    "binary = list(range(10))\n",
    "\n",
    "for i in range (0, 10):\n",
    "    x = int((x * 1103515245 + 12345) % (2**31))\n",
    "    keystream[i] = x\n",
    "    binary[i] = get_binary(x)\n",
    "    \n",
    "print(\"\\npseudo-random sequence of 10 integers: \\n\", end='')\n",
    "print(keystream)\n",
    "print(\"\\nsequence in binary: \\n\", end='')\n",
    "print(binary)\n",
    "\n",
    "l = len(get_binary(2**31))\n",
    "print(\"\\nmodulo (2^31) gives a maximum length of each value as %d bits.\" % l)"
   ]
  },
  {
   "cell_type": "markdown",
   "metadata": {
    "collapsed": true
   },
   "source": [
    "<a id='one_time'></a>\n",
    "\n",
    "<h2>The One Time Pad (OTP):</h2><br>\n",
    "Goal: to build the 'perfect' cipher.<br>\n",
    "<br>\n",
    "**Definition:** a cipher is **'unconditionally secure'** (or information theoretically secure) if it cannot be broken even with <i>**infinite**</i> computing resources.<br>\n",
    "<br>\n",
    "The OTP is a stream cipher where:\n",
    "  1. The key stream bits stem from a TRNG.\n",
    "  2. Each key stream bit is used only once.\n",
    "  \n",
    "Of course, the problem now resides in how to communicate the key to the receiver, since the key is as long as the message!  E.g. encrypting a 400mb video file produces 3.8Gb of key. If the key is safely communicated, the key still needs to be kept safe, and it is potentially very large. Also, if the key is safely communicated, then, given the key is as big as the original data, then simply communicatingg the original message using the same method considered viable for the key should be considered. Not only this, but the key also is non-reusable (one time) if security is to be maintained.<br>\n",
    "<br>\n",
    "Thus, we can see OTPs may be useful in situations where the key can be communicated before the communication becomes threatened. For example, if a spy, or an aly, can carry a stash of pre-defined keys into an espionage situation before communications are likely to be intercepted, and can keep the keys safe / destroy them when used, this system may be very secure. For remote, network based encrytption, however, these stipulations normally cannot be met.\n",
    "Using the Linear Congruential Generator (LCG), which uses a keystream $s_i$ from a PRNG, looks more promising (but, eventually, will be shown to be inadequate):\n",
    "\n",
    "<a id='lcg'></a>\n",
    "### Linear Congruential Generator (LCG):\n",
    "- Example of simple PRNG (ANSII C rand(), which is also an LCG):<br>\n",
    "<br>\n",
    "$S_0 = A\\cdot S_i+B, \\mod{m}$, where $A, B, S_i \\in Z m$<br>\n",
    "Key $K = (A, B)$<br>\n",
    "$A,B,S_i$ are $[log_2 m]$ bits long<br>\n",
    "<br>\n",
    "Note use of large ' $S$ ' to denote multi-bit blocks (which will then be encoded, bit by bit, using a stream cipher).<br>\n",
    "<br>\n",
    "Unfortunately, this is easily attacked. If the attacker knows three sequential plaintexts; $X_1, X_2, X_3$, (perhaps the document header is known, for example), then  simply by computing $S_1, S_2, S_3$, the constants in the LCG algorithm can be found:<br>\n",
    "<br>\n",
    "$A=(S_2-S_3)(S_1-S_2)^{-1}\\mod{m}$<br>\n",
    "$B=S_2-S_1(S_2-S_3)(S_1-S_2)^{-1}\\mod{m}$"
   ]
  },
  {
   "cell_type": "markdown",
   "metadata": {},
   "source": [
    "Further research [(Wikipedia)](https://en.wikipedia.org/wiki/Linear_congruential_generator) gives me more specifications: (paraphrased):\n",
    "\n",
    "When $B≠0$, correctly chosen parameters allow a period equal to $m$, for all seed values. This will occur if and only if:\n",
    "\n",
    "-  $m$ and the offset, $B$ are relatively prime,\n",
    "-  $A-1$ is divisible by all prime factors of $m$,\n",
    "-  $A-1$ is divisible by $4$ if $m$ is divisible by $4$.\n",
    "\n",
    "Thus, to use the algorithm containing$\\mod{2^{31}}$, given by the professor, I need to know all the prime factors of $2^{31}$ and then check $A-1$ is divisible by all. \n",
    "\n",
    "[A Wolfram Alpha tool](http://www.wolframalpha.com/widget/widgetPopup.jsp?p=v&id=8058bf500242562c0d031ff830ad094&title=Prime%20Factors&theme=&i0=2147483648&podSelect=) tells me there are $31$ prime factors in $2^{31}$, and all have a value of $2$. Since $A-1$ is even, this is divisible by all the prime factors of $2^{31}$."
   ]
  },
  {
   "cell_type": "markdown",
   "metadata": {},
   "source": [
    "### Encoding:\n",
    "Now, let's try encoding some plaintext with a stream cipher that utilises LCG outputs.<br><br>\n",
    "Let us assume we know the first three plaintext characters are 'c', 'a' and 't', represented by the ASCII codes $99, 97$, and $116$, respectively. We first need to represent each value within the 32-bit binary space defined by our$\\mod{2^{31}}$"
   ]
  },
  {
   "cell_type": "code",
   "execution_count": null,
   "metadata": {},
   "outputs": [],
   "source": [
    "# Convert decimal integers to 32-bit binary strings\n",
    "X = [99, 97, 116]  # ASCII values of \"c\", \"a\" and \"t\".\n",
    "Xbin = list(range(len(X)))\n",
    "\n",
    "def get_long_binary(x):\n",
    "    bin = get_binary(x)\n",
    "    digits = (len(bin))\n",
    "    for i in range (0, 32 - digits):\n",
    "        bin = \"0\" + bin\n",
    "\n",
    "    return bin\n",
    "\n",
    "for i in range (0, len(X)):\n",
    "    Xbin[i] = get_long_binary(X[i])\n",
    "\n",
    "print(\"Thus, 'c', 'a', and 't', have the following 32-bit binary representations:\")\n",
    "print(Xbin)"
   ]
  },
  {
   "cell_type": "markdown",
   "metadata": {},
   "source": [
    "Now, to encode these values, we simply need to XOR  each respective bit of binary plaintext value  with the respective bit of each respective LCG value. We can simply use the 32-bit binary representations of the PRNG values we generated above. To do this, we will also need to first make sure the LCG values are, indeed, 32 bits long:"
   ]
  },
  {
   "cell_type": "code",
   "execution_count": null,
   "metadata": {},
   "outputs": [],
   "source": [
    "# Encoding Y1, Y2, Y3, with keystream S1, S2, S3 and plaintext X1, X2, X3 (ASCII codes in binary):\n",
    "\n",
    "LCG_values = list(range(3))\n",
    "stream = list(range(3))\n",
    "decimal_encoded = list(range(3))\n",
    "\n",
    "for i in range (0,3):\n",
    "    LCG_values[i] = get_long_binary(keystream[i])\n",
    "    stream[i] = encr_bin_str(LCG_values[i], Xbin[i])\n",
    "    decimal_encoded[i] = int(stream[i], 2)\n",
    "    \n",
    "print(\"X values:        \", end=''); print(Xbin)\n",
    "print(\"LCG values:      \", end=''); print(LCG_values)\n",
    "print(\"cipher Y values: \", end=''); print(stream)\n",
    "print(\"decimal representation of cipher stream (Y) values: \", end=''); print(decimal_encoded)"
   ]
  },
  {
   "cell_type": "markdown",
   "metadata": {},
   "source": [
    "<a id='dvpa'></a>\n",
    "### Decryption (via plaintext attack):\n",
    "If we know the original plaintext values of the respective cipher text, we can now derive the values of the LCG constants, $A$ and $B$ (as if attacking this system without knowledge of their values, but with knowledge of the 3 sequential plaintext characters):"
   ]
  },
  {
   "cell_type": "code",
   "execution_count": null,
   "metadata": {},
   "outputs": [],
   "source": [
    "S1 = keystream[0]; S2 = keystream[1]; S3 = keystream[2]\n",
    "\n",
    "print(\"Previous encryption has given an encoding of 'cat' as S1, S2, and S3: %d, %d, %d:\\n\" % (S1, S2, S3))\n",
    "\n",
    "def egcd(a, b):  # Find extended euclidean gcd, for use in modinv(), below.\n",
    "    if a == 0:\n",
    "        return (b, 0, 1)\n",
    "    else:\n",
    "        g, y, x = egcd(b % a, a)\n",
    "        return (g, x - (b // a) * y, y)\n",
    "\n",
    "def modinv(a, m): # Find modular inverse, if one exists (and throw exception if not)\n",
    "    g, x, y = egcd(a, m)\n",
    "    if g != 1:\n",
    "        raise Exception('modular inverse does not exist')\n",
    "    else:\n",
    "        return x % m\n",
    "\n",
    "def find_A_B (S1, S2, S3):\n",
    "    p1 = (S2 - S3) % (2**31)\n",
    "    p2 = modinv(((S1 - S2) % (2**31)), 2**31)\n",
    "    A = (p1 * p2) % (2**31)  # A = (S2 - S3)(S1 - S2)^-1 mod (2^31)\n",
    "    B = (S2 - (S1 * A)) % 2**31  # B = S2 - S1(S2 - S3)(S1 - S2)^-1 mod (2^31)\n",
    "    return A, B\n",
    "\n",
    "A, B = find_A_B(S1, S2, S3)\n",
    "print(\"A = %d\\nB = %d\\n\" % (A, B))\n",
    "\n",
    "S1 = S2; S2 = S3; S3 = keystream[3]\n",
    "print(\"We can also solve using S2, S3, and S4: %d, %d, %d: \\n\" % (S1, S2, S3))\n",
    "\n",
    "A, B = find_A_B(S1, S2, S3)\n",
    "print(\"A = %d\\nB = %d\" % (A, B))"
   ]
  },
  {
   "cell_type": "markdown",
   "metadata": {},
   "source": [
    "To derive $A$ and $B$ from the cipher stream mathematically, an attacker needs to know, at least, 3 sequential plaintext characters in the original message. To decrypt the message; the ciphertext, knowledge of how many bits represent each encrypted character (32, in this case), and knowledge of, or an ability to discover, the beginnings / ends of the 32-bit character binary values, (when beginning / ends unknown: brute-force; max 32 iterations, ave. 16 <-- hmm, wouldn't this give false positives, with no way to check if resultant PRNG uses same settings as used for encoding? N.b not very relevant where message reception is near flawless) and accurate interception of the complete / large enough portions of the cipher stream are also needed.<br>\n",
    "<br>\n",
    "So what is the plaintext _really_ needed for? To complete the decryption of the rest of a message (beyond the known plaintext) and/or any other message sent using the same PRNG (with the same key settings and adequate known plaintext, as described above). Once the values of $A$ and $B$ are discovered, then any subsequent LCG value can be discovered if the previous value is known. _Because_ our attacker knows some sequential plaintext, he or she can reverse engineer the respective cipherstream values to find the underlying LCG (keystream) values, thus facilitating the discovery of all subsequent keystream values, in turn facilitating decryption to plaintext by XOR of the respective cipher value with each respective keystream value. This also explains why knowledge of a file header plaintext, for example, might be ideal for decryption of more than one (possibly many) message(s). <br>\n",
    "<br>\n",
    "Time to put this all together in one big lump of code, methinks, including an actual message, of some length, for encryption and then decryption via plaintext attack:<br>"
   ]
  },
  {
   "cell_type": "code",
   "execution_count": 18,
   "metadata": {
    "scrolled": false
   },
   "outputs": [
    {
     "name": "stdout",
     "output_type": "stream",
     "text": [
      "Enter a message to encrypt: decrypted with MY code! :-)\n",
      "\n",
      "Encrypted message: 011010111011001110001001100011100010010001110011001101001011111000011011100010100110101100011011011111010111111010000010001000110101011000111000010110101100111101000000011001100100001111000111011010101011011011000111010100000100101001010111111100101110100001011001011001110110110000100110000100010001000101100100011100110011110000101011001100011110011100101100110111100010101011100000011110101000010000001010111110100001110101000011111100101100011101001100001110011101011010011100011001010111010111100110000010000011110110111010010000011100001101011111011001110000101011101011011010000010101110100010110010110001110000010011101000011010111000001011111010101101110100000010010001010101100110001000110000100110011011101100010000010111010100101001011101111001100011011101001010010011011101101001110010000101001000001100000010000110111000000000011101100001111011101001\n",
      "\n",
      "If an attacker knows (or guesses) an LCG, using mod 2^31, was used to create a keystream constituted of 32-bit encoding,\n",
      "AND knows 3 original sequential plaintext values (and can locate them in cipher stream), then he or she can deduce the\n",
      "values of A and B in the LCG algorithm:    A = 1103515245, B = 12345\n",
      "\n",
      "Now, an attacker has all that is needed to decode the remaining cipher stream:\n",
      "\n",
      "Decoded message: decrypted with MY code! :-)\n"
     ]
    }
   ],
   "source": [
    "# Encrytion and decryption (via plaintext attack) of LCG-based stream cipher - by Simon Tharby, 2018\n",
    "# STAND-ALONE PROGRAM - runs independently of other code execution\n",
    "\n",
    "import numpy as np\n",
    "\n",
    "# ------------------------------ Encryption: ------------------------------------------------\n",
    "\n",
    "while True:\n",
    "    message = input(\"Enter a message to encrypt: \")\n",
    "    if len(message) > 2:\n",
    "        break\n",
    "    else:\n",
    "        print(\"\\nERROR! Message must be 3 or more characters long. Please try again.\\n\")\n",
    "\n",
    "ascii = list(range(len(message))) # list to hold integer ascii values of message chars\n",
    "for i in range (0, len(message)): # convert message chars to list of ascii value integers\n",
    "    ascii[i] = ord(message[i])\n",
    "    \n",
    "x = 56789 # seed for LCG\n",
    "\n",
    "keystream, binary = list(range(len(message))), list(range(len(message))) # lists for decimal & binary keystream values\n",
    "\n",
    "get_binary = lambda x: format(x, 'b') # useful function for converting integer to binary string\n",
    "\n",
    "for i in range (0, len(message)):  # LCG; calculate PRNs\n",
    "    x = int((x * 1103515245 + 12345) % (2**31))\n",
    "    keystream[i] = x\n",
    "    binary[i] = get_binary(x)\n",
    "\n",
    "Xbin = list(range(len(message)))  # list to hold 32-bit binary strings of message chars ascii values\n",
    "Pbin = list(range(len(message)))  # list to hold 32-bit binary strings of LCG PRN values\n",
    "\n",
    "def get_long_binary(a):  # Create 32-bit binary string from a decimal integer\n",
    "    bin = get_binary(a)\n",
    "    digits = (len(bin))\n",
    "    for i in range (0, 32 - digits):\n",
    "        bin = \"0\" + bin\n",
    "    return bin\n",
    "\n",
    "for i in range (0, len(message)):\n",
    "    Xbin[i] = get_long_binary(ascii[i])\n",
    "    Pbin[i] = get_long_binary(keystream[i]) # list of S1, S2, Sn+1 ... as binary 32-bit strings\n",
    "\n",
    "# Create cipher stream; Y1, Y2, Y3, Yn+1 ... XOR binary PRN keystream with binary encoded values (ASCII codes):\n",
    "\n",
    "cipher = list(range(len(message))) # list to hold 32-bit binary strings of cipher stream values\n",
    "decimal_cipher = list(range(len(message)))  # list to hold decimal integer values of cipher stream values\n",
    "\n",
    "def get_XOR(a, b):\n",
    "    if a == b:\n",
    "        result = 0\n",
    "    else:\n",
    "        result = 1\n",
    "    return result\n",
    "\n",
    "def encr_bin_str(data_in, key_stream):  # step through respective bits of two streams and XOR each pair of bits\n",
    "    encoded = \"\"\n",
    "    for i in range(len(data_in) * -1, 0):\n",
    "        encoded = encoded + str(get_XOR(data_in[i], key_stream[i]))\n",
    "    return encoded\n",
    "\n",
    "for i in range (0, len(message)):  # step through each respective pair of 32-bit 'characters' from cipher and plaintext\n",
    "    cipher[i] = encr_bin_str(Xbin[i], Pbin[i])\n",
    "    decimal_cipher[i] = int(cipher[i], 2)\n",
    "\n",
    "print(\"\\nEncrypted message: \", end=''); print(\"\".join('%s'%x for x in cipher))\n",
    "\n",
    "# ------------------------------ Decryption (via plaintext attack): ---------------------------------\n",
    "\n",
    "# 1. XOR bits of 3 known plaintext 32-bit binary encodings with the 3 respective cipher 32-bit binary encodings\n",
    "#    to derive the respective LCG stream decimal integer values:\n",
    "\n",
    "found_S = list(range(len(message)))   # list of derived 32-bit binary LCG keystream values S1, S2, Sn+1, ...\n",
    "decimal_S = list(range(len(message))) # list of derived LCG keystream values as decimal integers\n",
    "for i in range (0, 3):                # use known 3 plaintext values to derive 1st 3 values of keystream\n",
    "    found_S[i] = encr_bin_str(Xbin[i], cipher[i])\n",
    "    decimal_S[i] = int(found_S[i], 2)\n",
    "    \n",
    "S1 = decimal_S[0]; S2 = decimal_S[1]; S3 = decimal_S[2]\n",
    "\n",
    "# 2. Derive A and B (LCG constants), from the 3 derived keystream values:\n",
    "\n",
    "def egcd(a, b):  # Find extended euclidean gcd, for use in modinv, below\n",
    "    count, floors = 0, []\n",
    "    while b % a != 0:\n",
    "        floors.append(b)\n",
    "        a, b = b% a, a\n",
    "        count += 1\n",
    "\n",
    "    floors.append(b)\n",
    "    g, s, t = abs(a), 0, 1\n",
    "    for i in range (0, len(floors) - 1):\n",
    "        s, t = t, s - ((floors[len(floors) - i - 2])  // (floors[len(floors) - i - 1])) * t\n",
    "    return g, t, s\n",
    "\n",
    "def modinv(a, m): # Find modular inverse, if one exists (and throw exception if not)\n",
    "    g, s, t = egcd(a, m)\n",
    "    if g != 1:\n",
    "        raise Exception('modular inverse does not exist')\n",
    "\n",
    "    return s % m\n",
    "\n",
    "def find_A_B (S1, S2, S3):\n",
    "    p1 = (S2 - S3) % (2**31)\n",
    "    p2 = modinv(((S1 - S2) % (2**31)), 2**31)\n",
    "    A = (p1 * p2) % (2**31)        # A = (S2 - S3)(S1 - S2)^-1\n",
    "    B = (S2 - (S1 * A)) % (2**31)  # B = S2 - S1(S2 - S3)(S1 - S2)^-1\n",
    "    return A, B\n",
    "\n",
    "A, B = find_A_B(S1, S2, S3)\n",
    "\n",
    "print(\"\\nIf an attacker knows (or guesses) an LCG, using mod 2^31, was used to create a keystream constituted of 32-bit encoding,\")\n",
    "print(\"AND knows 3 original sequential plaintext values (and can locate them in cipher stream), then he or she can deduce the\")\n",
    "print(\"values of A and B in the LCG algorithm:    A = %d, B = %d\" % (A, B))\n",
    "print(\"\\nNow, an attacker has all that is needed to decode the remaining cipher stream:\\n\")\n",
    "\n",
    "# 3. Create remaining keystream values using LCG with newly discovered constants:\n",
    "\n",
    "x = decimal_S[2]  # Use last (of 3) derived LCG PRNs as seed to create subequent outputs of LCG\n",
    "for i in range (3, len(message)):\n",
    "    x = int((x * A + B) % (2**31))\n",
    "    decimal_S[i] = x\n",
    "    found_S[i] = get_long_binary(x)\n",
    "    \n",
    "# 4. XOR all found keystream values with all 32-bit binary cipher text values:\n",
    "\n",
    "binary_D = list(range(len(message)))  # list of decrypted cipher text as 32-bit binary strings\n",
    "ascii_D = list(range(len(message)))   # list of decrypted cipher text ascii values as decimal integers\n",
    "\n",
    "for i in range (0, len(message)):\n",
    "    binary_D[i] = encr_bin_str(cipher[i], found_S[i])\n",
    "    ascii_D[i] = int(binary_D[i], 2)\n",
    "    \n",
    "# 5. Convert decimal ascii values to characters:\n",
    "\n",
    "decrypted = \"\"  # string variable to hold decrypted message text\n",
    "for i in range (0, len(message)):\n",
    "    decrypted = decrypted + chr(ascii_D[i])\n",
    "    \n",
    "print (\"Decoded message: \" + decrypted)"
   ]
  },
  {
   "cell_type": "markdown",
   "metadata": {},
   "source": [
    "### Plaintext attack (steps):    \n",
    "1. Know or locate where the known plaintext begins in the cipher text stream.\n",
    "2. XOR a 32-bit binary representation of the ascii value of each known plaintext character with the respective 32-bit cipher text block (minimum of 3 sequential plaintext characters must be known).\n",
    "3. Use the 3 derived keystream values (from 2, above) to derive the LCG constants, A and B.\n",
    "4. Use the third derived keystream value (from 2, above) as the seed for the LCG, and the known parameters of the LCG (from 3, above), to create the necessary subsequent sequence of keystream values.\n",
    "5. XOR all 32-bit cipher text blocks with all respective derived/created keystream values to decrypt the entire message."
   ]
  },
  {
   "cell_type": "markdown",
   "metadata": {},
   "source": [
    "###### Further questions:\n",
    "1. What if the beginning / end of the 32-bit binary 'character blocks' was not known (e.g. intercept of partial message)? Would brute force stepping through the stream, bit by bit, produce false positive values for A and B, sometimes, ever, always or never? (Easily testable, but perhaps only for an assumed case where it is known that some specific plaintext will  be in the message, but not exactly where. Because, to derive the LCG constants you must know exactly which cipher stream bits represent exactly each of the respective plaintext characters you know are in the message, this may not be simple to overcome. So, actually, it would only be possible to be sure the constants had been derived if the decrytion is successsful (and then detecting this may become the issue), and I have a suspicion any combination of values in $Z2^{31}$ will result in apparent constants, for the carefully chosen constants of the ANSII C rand() modelled here, but not necessarily, or at all, if the actual values of the bitstreams are offset. Need to check this.)\n",
    "2. Similar to above, but what if the length (in bits) of the binary 'character blocks' was not known?\n",
    "3. How many 'good' combinations of values of $A$ and $B$ can be found for, say, the$\\mod{2^{31}}$ used here.\n",
    "4. Right now, it seems obvious that no values prior to the PRNs, deduced from knowledge of plaintext, can be found for ciphertext that relates to plaintext found earlier in the message than the known plaintext, but is this true? Can we generate 'backwards' with a PRNG?\n",
    "5. Given that $2^{31}$ has (only) $2$ as a divisor (other than itself and $1$, which all non-zero integers have), then how do we know the derivation of $A$ and $B$ (from 3 the LCG outputs) will always work. This can only be true if $S_1 - S_2$ never gives an even result, (since an even number $a$ cannot give a gcd of $1$ with the modulo $2^{31}$ (which is also even, hence the gcd must be 2 or more), hence no modular inverse of $a$ exists in such cases, and thus we could not derive $A$ and $B$), which can only happen if the LCG consistently produces alternating odd and even outputs. If the LCG used does this, then why? Given it facilitates an attack vector, is there something useful (or vital) to the LCG about this pattern? And/or is it the only way an LCG can give an illusion of randomness? e.g. EOOEEOOEE would also appear about as 'random', since neither seems very random in terms of 'odd/even-ness'? I still have lots of basic questions about LCGs (and probably PRNGs in general).\n",
    "\n",
    "Thinking about it, a lot of q. 6 is answered by the Wikipedia notes I added to the description of an LCG, above. I am also interested in the 'period' being equal to the modulo $m$. Does this mean the LCG gives a repetitive cycle of the same values, with a period of $m$? Interesting, and easily testable (and if true, would probably better explain why LCGs are horrible for cryptography)."
   ]
  },
  {
   "cell_type": "markdown",
   "metadata": {},
   "source": [
    "<a id='eea'></a>\n",
    "## Extended Euclidean Algorithm and Modular Inverse:\n",
    "I used some code that utilizes the Euclidean Extended Algorithm to find the modular inverse of an integer ring member (or to show there is none); `egcd()` and `modinv()` [[this tutorial]](https://discuss.codechef.com/questions/20842/a-tutorial-on-the-extended-euclids-algorithm). After a little investigation, (see [Slicing and Recursion (myBinder)](https://mybinder.org/v2/gh/jinjagit/JupyterNotebooks/master?filepath=slicing%20and%20recursion.ipynb)), I rewrote an iterative version of egcd(), (the original was recursive).<br>\n",
    "1. The basic Euclidean Algorithm can be used to find the greatest common divisor (gcd) of two integers. It basically iterates through division of one number (the larger of the two) by the other, until a remainder of zero is found, with the gcd being the last non-zero remainder found before the zero remainder (except when the first remainder is zero, see note below). [Video explaining the Euclidean Algorithm [7 mins]](https://youtu.be/p5gn2hj51hs)\n",
    "2. The Extended Euclidean Algorithm provides a more complex iterative (and can be recursive) method to find the values of $s$ and $t$ in Bezout's theorem, which states that for any two integers $a$ and $b$, there must be integers $t$ and $s$, such that $as + bt = \\gcd{a, b}$. [Video explaining the Extended Euclidean Algorithm [15 mins]](https://youtu.be/6KmhCKxFWOs)\n",
    "3. The abovementioned value of $t$, along with the $\\gcd$, can be used to find the modular inverse of $a\\mod{m}$, as used in the plaintext attack decryption of a stream cipher, above.\n",
    "\n",
    "Time to code it, to get a better understanding of the code I used!<br>\n",
    "<br>\n",
    "Let's begin with the basic Euclidean Algorithm, to find the greatest common divisor ($\\gcd$):"
   ]
  },
  {
   "cell_type": "code",
   "execution_count": null,
   "metadata": {},
   "outputs": [],
   "source": [
    "# GCD calculator, using Euclidean Algorithm - by Simon Tharby, 2018\n",
    "# STAND-ALONE PROGRAM - runs independently of other code execution\n",
    "\n",
    "a = int(input(\"Enter 1st (non-zero) integer: \"))\n",
    "b = int(input(\"Enter 2nd (non-zero) integer: \"))\n",
    "\n",
    "def gcd(a, b):\n",
    "    count = 0\n",
    "    \n",
    "    while b % a != 0:\n",
    "        a, b = b% a, a\n",
    "        count += 1\n",
    "        \n",
    "    return abs(a)\n",
    "\n",
    "print(\"gcd: %d\" % gcd(a, b))"
   ]
  },
  {
   "cell_type": "markdown",
   "metadata": {},
   "source": [
    "Here is a rather beautiful and succinct recursive function, `egcd()`, taken from [this tutorial](https://discuss.codechef.com/questions/20842/a-tutorial-on-the-extended-euclids-algorithm) which uses the Extended Euclidean Algorithm to find $s$ and $t$ in Bezout's theorem, along with the $\\gcd$:"
   ]
  },
  {
   "cell_type": "code",
   "execution_count": 21,
   "metadata": {},
   "outputs": [
    {
     "name": "stdout",
     "output_type": "stream",
     "text": [
      "(2, -29, 71)\n"
     ]
    }
   ],
   "source": [
    "def egcd(a, b):\n",
    "    if a == 0:\n",
    "        return (b, 0, 1)\n",
    "\n",
    "    g, y, x = egcd(b % a, a)  # <- this line contains the recursive call of the function itself\n",
    "    return (g, x - (b // a) * y, y)\n",
    "    \n",
    "print(egcd(1180, 482))"
   ]
  },
  {
   "cell_type": "markdown",
   "metadata": {},
   "source": [
    "Below is my iterative version of egcd(), which also finds $s$ and $t$ in Bezout's theorem, along with the $\\gcd$.<br>\n",
    "Also, see [Slicing and Recursion (myBinder)](https://mybinder.org/v2/gh/jinjagit/JupyterNotebooks/master?filepath=slicing%20and%20recursion.ipynb) for more details:"
   ]
  },
  {
   "cell_type": "code",
   "execution_count": null,
   "metadata": {},
   "outputs": [],
   "source": [
    "# EGCD calculator (iterative), using Extended Euclidean Algorithm - by Simon Tharby, 2018\n",
    "\n",
    "def egcd(a, b):\n",
    "    count, floors = 0, []\n",
    "    while b % a != 0:\n",
    "        floors.append(b)\n",
    "        a, b = b% a, a\n",
    "        count += 1\n",
    "\n",
    "    floors.append(b)\n",
    "    g, s, t = abs(a), 0, 1\n",
    "    for i in range (0, len(floors) - 1):\n",
    "        s, t = t, s - ((floors[len(floors) - i - 2])  // (floors[len(floors) - i - 1])) * t\n",
    "    return g, t, s\n",
    "\n",
    "egcd(1180, 482)"
   ]
  },
  {
   "cell_type": "markdown",
   "metadata": {},
   "source": [
    "Either of the above `egcd()` functions will provide the neccesary parameter values for the `modinv()` function, also taken from the aforementioned tutorial. `The modinv()` function is easy to follow, in the context of modular arithmetic, once the `egcd()` function is understood:"
   ]
  },
  {
   "cell_type": "code",
   "execution_count": 19,
   "metadata": {},
   "outputs": [
    {
     "data": {
      "text/plain": [
       "7"
      ]
     },
     "execution_count": 19,
     "metadata": {},
     "output_type": "execute_result"
    }
   ],
   "source": [
    "def modinv(a, m): # Find modular inverse, if one exists (and throw exception if not)\n",
    "    g, x, y = egcd(a, m)\n",
    "    if g != 1:\n",
    "        raise Exception('modular inverse does not exist')\n",
    "\n",
    "    return x % m\n",
    "    \n",
    "modinv(4, 9)"
   ]
  },
  {
   "cell_type": "markdown",
   "metadata": {},
   "source": [
    "Do LCGs repeat (and is the frequency related to the modulus)?<br>\n",
    "If they repeat, is this a facet of LCGs with relatively 'well chosen' values for A and B, inevitable, or avoidable?<br>\n",
    "<br>\n",
    "Do all possible $S_n-S_{n+1}\\mod{m}$ values of the C rand() emulation I am using have a modular inverse?<br>"
   ]
  },
  {
   "cell_type": "markdown",
   "metadata": {},
   "source": [
    "<br>\n",
    "***\n",
    "<br>\n",
    "Notes on Lecture 4, [Introduction to Cryptography](https://www.youtube.com/channel/UC1usFRN4LCMcfIV7UjHNuQg/videos),by Christof Paar, and Chapter 2 (cont.), [Understanding Crpytography](https://www.amazon.com/Understanding-Cryptography-Christof-Paar-ebook/dp/B00HWUO98A), by Paar & Pletzl:<br>"
   ]
  },
  {
   "cell_type": "markdown",
   "metadata": {},
   "source": [
    "<br>\n",
    "***\n",
    "### References:\n",
    "Lectures 3 and 4, [Introduction to Cryptography](https://www.youtube.com/channel/UC1usFRN4LCMcfIV7UjHNuQg/videos),by Christof Paar\n",
    "[Understanding Crpytography](https://www.amazon.com/Understanding-Cryptography-Christof-Paar-ebook/dp/B00HWUO98A), by Paar & Pletzl:<br>\n",
    "<bnr>\n",
    "Extended Euclidian Algo: http://anh.cs.luc.edu/331/notes/xgcd.pdf / https://discuss.codechef.com/questions/20842/a-tutorial-on-the-extended-euclids-algorithm<br>\n",
    "Python Extended Euclidean Algorithm and Modular Inverse: https://discuss.codechef.com/questions/20842/a-tutorial-on-the-extended-euclids-algorithm"
   ]
  },
  {
   "cell_type": "markdown",
   "metadata": {
    "collapsed": true
   },
   "source": [
    "Document unfinished. In progress..."
   ]
  },
  {
   "cell_type": "markdown",
   "metadata": {
    "collapsed": true
   },
   "source": [
    "<center><a href='#top'>Back to top of document</a><br></center>"
   ]
  }
 ],
 "metadata": {
  "kernelspec": {
   "display_name": "Python 3",
   "language": "python",
   "name": "python3"
  },
  "language_info": {
   "codemirror_mode": {
    "name": "ipython",
    "version": 3
   },
   "file_extension": ".py",
   "mimetype": "text/x-python",
   "name": "python",
   "nbconvert_exporter": "python",
   "pygments_lexer": "ipython3",
   "version": "3.6.3"
  }
 },
 "nbformat": 4,
 "nbformat_minor": 2
}
