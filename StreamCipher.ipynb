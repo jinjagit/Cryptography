{
 "cells": [
  {
   "cell_type": "markdown",
   "metadata": {},
   "source": [
    "<a id='top'></a>\n",
    "\n",
    "<h1>Stream Cipher</h1>\n",
    "<br>\n",
    "Notes on Lecture 3, [Introduction to Cryptography](https://www.youtube.com/channel/UC1usFRN4LCMcfIV7UjHNuQg/videos), by Christof Paar, and Chapter 2, [Understanding Crpytography](https://www.amazon.com/Understanding-Cryptography-Christof-Paar-ebook/dp/B00HWUO98A), by Paar & Pletzl:<br>\n",
    "<br>\n",
    "Note: Many notebook functions and diagrams are unavailable /  will not display in static views (like GitHub). [View 'live' on MyBinder](https://mybinder.org/v2/gh/jinjagit/Cryptography/master?filepath=StreamCipher.ipynb)"
   ]
  },
  {
   "cell_type": "code",
   "execution_count": null,
   "metadata": {
    "collapsed": true
   },
   "outputs": [],
   "source": [
    "# Run this code cell for help on using 'live' notebooks\n",
    "f = open('HowTo.txt', 'r'); data = f.read(); print(data)"
   ]
  },
  {
   "cell_type": "markdown",
   "metadata": {},
   "source": [
    "## Contents:\n",
    "<a href='#intro'>Introduction</a><br>\n",
    "<a href='#rngs'>Random Number Generators</a><br>\n",
    "<a href='#one_time'>The One Time Pad</a><br>\n",
    "<a href='#lcg'>Linear Congruential Generator (LCG)</a><br>\n",
    "<a href='#dvpa'>Decrypting the LCG Stream Cipher (via plaintext attack)</a><br>"
   ]
  },
  {
   "cell_type": "markdown",
   "metadata": {},
   "source": [
    "**NOTE: The following code should be run before other code in this notebook is run** (imports necessary libraries):"
   ]
  },
  {
   "cell_type": "code",
   "execution_count": 1,
   "metadata": {},
   "outputs": [
    {
     "name": "stdout",
     "output_type": "stream",
     "text": [
      "libraries imported\n"
     ]
    }
   ],
   "source": [
    "%matplotlib inline \n",
    "import matplotlib\n",
    "import matplotlib.pyplot as plt\n",
    "import numpy as np\n",
    "import pandas as pd\n",
    "from ipywidgets import interact,FloatSlider,IntSlider\n",
    "from IPython.display import HTML as html_print\n",
    "from functools import reduce\n",
    "from math import gcd,log\n",
    "\n",
    "print(\"libraries imported\")  # <- (re)run until output prints; may take a few seconds to run."
   ]
  },
  {
   "cell_type": "markdown",
   "metadata": {},
   "source": [
    "<a id='intro'></a>\n",
    "\n",
    "<h2>Introduction:</h2><br>"
   ]
  },
  {
   "cell_type": "markdown",
   "metadata": {},
   "source": [
    "<center><img src=diagrams/CryptoTree.svg / ></center>"
   ]
  },
  {
   "cell_type": "markdown",
   "metadata": {},
   "source": [
    "Note: GSM is used by all mobile phones, was developed in mid 1980s, and was first large-scale application of encrytpion. GSM uses a stream cipher to encrypt digital voice (audio) signals, before transmitting to base towers."
   ]
  },
  {
   "cell_type": "markdown",
   "metadata": {},
   "source": [
    "**Definition:** A stream cipher encrypts bits individually (as against a block cipher, which encodes blocks of bits), **by adding a bit from a <i>key stream</i> to a plaintext bit.**"
   ]
  },
  {
   "cell_type": "markdown",
   "metadata": {},
   "source": [
    "Usually, stream ciphers use very simple encrytption and decryption methods."
   ]
  },
  {
   "cell_type": "markdown",
   "metadata": {},
   "source": [
    "Each bit $\\Large{x_i}$ is encrypted by adding a secret key stream bit $\\Large{s_i}$, modulo 2."
   ]
  },
  {
   "cell_type": "markdown",
   "metadata": {
    "collapsed": true
   },
   "source": [
    "<center><img src=diagrams/asynchStream.svg / ></center>"
   ]
  },
  {
   "cell_type": "markdown",
   "metadata": {
    "collapsed": true
   },
   "source": [
    "Stream ciphers tend to be small and fast and are, therefore, relevant to applications that run in environments with relatively limited resources. In general, however, block ciphers are still used more frequenly for encrytping computer communications. Neither kind can claim better overall efficiency (of software = cycles; or hardware = fewer gates/smaller chip area)."
   ]
  },
  {
   "cell_type": "markdown",
   "metadata": {},
   "source": [
    "**Encryption and Decryption:**\n",
    "\n",
    "<i>The plaintext, ciphertext and key consist of individual bits;</i>\n",
    "\n",
    "$x_i, y_i, s_i\\in\\{1, 0\\}$\n",
    "\n",
    "**Encryption:** $y_i = e_{s_i}(x_i)\\equiv x_i + s_i\\mod{2}$<br></br>\n",
    "**Decryption:** $x_i = d_{s_i}(y_i)\\equiv y_i + s_i\\mod{2}$"
   ]
  },
  {
   "cell_type": "markdown",
   "metadata": {},
   "source": [
    "  1. Encryption and decryption are same functions!\n",
    "  2. Why can we use a simple modulo 2 addition as encrytpion?\n",
    "  3. What is the nature of the stream bits $\\large{s_i}$?"
   ]
  },
  {
   "cell_type": "markdown",
   "metadata": {},
   "source": [
    "**Proof:** that decryption uses same algorithm as encryption, by substitution of $\\large{y_i}$ in decryption algorithm with the encryption algorithm, $\\large{x_i + s_i}$ and further reduction of the resultant expression, thus:<br>\n",
    "<br>\n",
    "$d_{s_i}(y_i)\\equiv y_i + s_i\\mod{2}$ <br>\n",
    "$d_{s_i}(y_i)\\equiv (x_i + s_i) + s_i\\mod{2}$ <br>\n",
    "$d_{s_i}(y_i)\\equiv x_i + 2s_i\\mod{2}$ <br>\n",
    "$d_{s_i}(y_i)\\equiv x_i + 0\\mod{2}$ <br>\n",
    "$d_{s_i}(y_i)\\equiv x_i\\mod{2} \\;\\blacksquare$"
   ]
  },
  {
   "cell_type": "markdown",
   "metadata": {},
   "source": [
    "Thus, the reason that we can use simple modulo 2 addition as decryption, (as well as encryption), is that $x_i, y_i, s_i \\in\\{1, 0\\}$, and $x_i, y_i, s_i \\in Z 2$. In other words, because they are all bits and, therefore, can only have values of either $0$, or $1$."
   ]
  },
  {
   "cell_type": "markdown",
   "metadata": {},
   "source": [
    "**RULE:** Modulo 2 addition and subtraction are the same operation."
   ]
  },
  {
   "cell_type": "code",
   "execution_count": 2,
   "metadata": {},
   "outputs": [
    {
     "name": "stdout",
     "output_type": "stream",
     "text": [
      "enter 1st integer: 57\n",
      "enter 2nd integer: 939\n",
      "57 + 939, modulo 2 = 0\n",
      "57 - 939, modulo 2 = 0\n"
     ]
    }
   ],
   "source": [
    "# calculates a+b mod 2, and a-b mod 2\n",
    "\n",
    "a = int(input(\"enter 1st integer: \"))\n",
    "b = int(input(\"enter 2nd integer: \"))\n",
    "\n",
    "c = (a + b)%2\n",
    "d = (a - b)%2\n",
    "\n",
    "print(\"%d + %d, modulo 2 = %d\" % (a, b, c))\n",
    "print(\"%d - %d, modulo 2 = %d\" % (a, b, d))"
   ]
  },
  {
   "cell_type": "markdown",
   "metadata": {},
   "source": [
    "Thus, $\\;\\;\\;\\;d_{s_i}(y_i)\\equiv y_i + s_i\\mod{2}\\;\\;\\;\\;$ and $\\;\\;\\;\\;d_{s_i}(y_i)\\equiv y_i - s_i\\mod{2}\\;\\;\\;\\;$ are equivalent."
   ]
  },
  {
   "cell_type": "markdown",
   "metadata": {},
   "source": [
    "Consider the truth table for x, s and y:\n",
    "\n",
    "|        |  x  |  s  |  y = x + s  |  y = x - s  |\n",
    "|--------|-----|-----|-------------|-------------|\n",
    "| case 1 |  0  |  0  |      0      |      0      |\n",
    "| case 2 |  0  |  1  |      1      |      1      |\n",
    "| case 3 |  1  |  0  |      1      |      1      |\n",
    "| case 4 |  1  |  1  |      0      |      0      |"
   ]
  },
  {
   "cell_type": "markdown",
   "metadata": {},
   "source": [
    "The above represents an [XOR](https://en.wikipedia.org/wiki/XOR_gate) binary gate, executed using either addition or subtraction in modulo 2.<br>\n",
    "An XOR gate implements an exclusive **or**; that is, a true output results if one, and only one, of the inputs to the gate is true."
   ]
  },
  {
   "cell_type": "markdown",
   "metadata": {},
   "source": [
    "Idea: To apply modulo 2 to any binary integer value, we need only read the value of the last bit, (0 or 1), which gives the modulo 2 value of the integer. Not a great insight, as really it is another way of saying that the nature of binary means the 'units' digit of any integer will equal the modulo 2 value. This is true of the units digit for any base where a modulo of the same value as the base is applied (e.g. base 10 modulo 10). With binary, however, there is also the advantage that reading a single bit from memory is probably generally faster than doing modulo math on an integer. However, <i>I imagine</i> most decent math libraries / languages exploit this fact when performing modulo 2 math on an integer (but, I do not know this)."
   ]
  },
  {
   "cell_type": "code",
   "execution_count": 3,
   "metadata": {},
   "outputs": [
    {
     "name": "stdout",
     "output_type": "stream",
     "text": [
      "enter integer: 10071\n",
      "binary representation: 10011101010111\n",
      "last binary digit: 1\n",
      "10071 modulo 2 = 1 modulo 2\n"
     ]
    }
   ],
   "source": [
    "# compare modulo 2 representation of an integer with the last digit of its binary representation\n",
    "\n",
    "a = int(input(\"enter integer: \"))\n",
    "\n",
    "get_binary = lambda x: format(x, 'b') # useful function for converting integer to binary string\n",
    "\n",
    "binary = get_binary(a)\n",
    "last_digit = binary[-1:]\n",
    "mod2 = a%2\n",
    "\n",
    "print(\"binary representation: \" + binary)\n",
    "print(\"last binary digit: \" + last_digit)\n",
    "print(\"%d modulo 2 = %d modulo 2\" % (a, mod2))"
   ]
  },
  {
   "cell_type": "markdown",
   "metadata": {
    "collapsed": true
   },
   "source": [
    "<center><img src=diagrams/streamBasic.svg / ></center>"
   ]
  },
  {
   "cell_type": "markdown",
   "metadata": {
    "collapsed": true
   },
   "source": [
    "Considering the above truth table and its consequences, we can see that <i>if the probability of any stream bit $s_i$ being $1$ or $0$ is equal,</i> then the encoding of either $x_i = 0$, or $x_i = 1$, has an equal chance of giving $y_i = 0$, or $y_i = 1$, in either case.<br>\n",
    "<br>\n",
    "**Flipping bits:** Also, the value of the stream bit has a particular effect on the $x$ value provided: $s = 1$ will always flip the input bit; $0\\,\\to\\,1$, or $1\\,\\to\\,0$, whereas $s = 0$ will not change the input bit.<br>\n",
    "  As there are two modulo 2 addition (XOR) operations in the encoding/decoding stream, each using $s_i$ to enccode $x_i$ and decode $y_i$, $x_i$ is eventually either flipped twice; if $s_i =1$, or not at all; if $s_i =0$."
   ]
  },
  {
   "cell_type": "code",
   "execution_count": 4,
   "metadata": {},
   "outputs": [
    {
     "data": {
      "text/html": [
       "encrypt <text style=color:blue;background-color:blue>.</text><text style=color:white;background-color:blue>0</text><text style=color:blue;background-color:blue>.</text> with s = 0 -> 0 ... decrypt 0 with s = 0 -> <text style=color:blue;background-color:blue>.</text><text style=color:white;background-color:blue>0</text><text style=color:blue;background-color:blue>.</text></br>encrypt <text style=color:blue;background-color:blue>.</text><text style=color:white;background-color:blue>1</text><text style=color:blue;background-color:blue>.</text> with s = 0 -> 1 ... decrypt 1 with s = 0 -> <text style=color:blue;background-color:blue>.</text><text style=color:white;background-color:blue>1</text><text style=color:blue;background-color:blue>.</text></br>encrypt <text style=color:blue;background-color:blue>.</text><text style=color:white;background-color:blue>0</text><text style=color:blue;background-color:blue>.</text> with s = 1 -> 1 ... decrypt 1 with s = 1 -> <text style=color:blue;background-color:blue>.</text><text style=color:white;background-color:blue>0</text><text style=color:blue;background-color:blue>.</text></br>encrypt <text style=color:blue;background-color:blue>.</text><text style=color:white;background-color:blue>1</text><text style=color:blue;background-color:blue>.</text> with s = 1 -> 0 ... decrypt 0 with s = 1 -> <text style=color:blue;background-color:blue>.</text><text style=color:white;background-color:blue>1</text><text style=color:blue;background-color:blue>.</text>"
      ],
      "text/plain": [
       "<IPython.core.display.HTML object>"
      ]
     },
     "execution_count": 4,
     "metadata": {},
     "output_type": "execute_result"
    }
   ],
   "source": [
    "# XOR on 4 cases of x + s, applied twice to emulate encryption and decryption of single bits.\n",
    "# Note the replacement of modular arithmetic with a single XOR operation.\n",
    "\n",
    "def get_XOR(x, s):\n",
    "    if x == s:\n",
    "        y = 0\n",
    "    else:\n",
    "        y = 1\n",
    "    return y\n",
    "\n",
    "a = str(get_XOR(0,0))\n",
    "b = str(get_XOR(1,0))\n",
    "c = str(get_XOR(0,1))\n",
    "d = str(get_XOR(1,1))\n",
    "\n",
    "def col_str(s):  # use html to print color output (white text on blue background)\n",
    "    return \"<text style=color:white;background-color:blue>{}</text>\".format(s)\n",
    "\n",
    "def bl_sp(s):  # use html to print blue space (blue text on blue background)\n",
    "    return \"<text style=color:blue;background-color:blue>{}</text>\".format(s)\n",
    "\n",
    "html_print(\"encrypt \" + bl_sp('.') + col_str('0') + bl_sp('.') + \" with s = 0 -> \" + a + \n",
    "           \" ... decrypt \" + a + \" with s = 0 -> \" + bl_sp('.') + col_str(a) + bl_sp('.') + \"</br>\"\n",
    "           + \"encrypt \" + bl_sp('.') + col_str('1') + bl_sp('.') + \" with s = 0 -> \" + b +\n",
    "           \" ... decrypt \" + b + \" with s = 0 -> \" + bl_sp('.') + col_str(b) + bl_sp('.') + \"</br>\"\n",
    "           + \"encrypt \" + bl_sp('.') + col_str('0') + bl_sp('.') + \" with s = 1 -> \" + c +\n",
    "           \" ... decrypt \" + c + \" with s = 1 -> \" + bl_sp('.') + col_str(d) + bl_sp('.') + \"</br>\"\n",
    "           + \"encrypt \" + bl_sp('.') + col_str('1') + bl_sp('.') + \" with s = 1 -> \" + d +\n",
    "           \" ... decrypt \" + d + \" with s = 1 -> \" + bl_sp('.') + col_str(c) + bl_sp('.'))"
   ]
  },
  {
   "cell_type": "markdown",
   "metadata": {},
   "source": [
    "Example: Encoding the ASCII character \"A\":\n",
    "\n",
    "It's number 65 in the ASCII table, which is 1000001 in binary.\n",
    "We apply a pre-defined stream of 0101101:\n",
    "\n",
    "$x_7...x_1$ $= 1000001$ <br>\n",
    "$s_7...s_1$ $= 0101101$"
   ]
  },
  {
   "cell_type": "code",
   "execution_count": 5,
   "metadata": {},
   "outputs": [
    {
     "name": "stdout",
     "output_type": "stream",
     "text": [
      "data in = 1000001, after encryption = 1101100\n",
      "encoded = 1101100, after decryption = 1000001\n"
     ]
    }
   ],
   "source": [
    "# Encrypting an ASCII 'A' in binary (requires previous code cell to have run)\n",
    "\n",
    "def encr_bin_str(data_in, key_stream):\n",
    "    encoded = \"\"\n",
    "    for i in range(len(data_in) * -1, 0):\n",
    "        encoded = encoded + str(get_XOR(data_in[i], key_stream[i]))\n",
    "        \n",
    "    return encoded\n",
    "\n",
    "data_in = \"1000001\"\n",
    "key_stream = \"0101101\"\n",
    "\n",
    "encoded = encr_bin_str(data_in, key_stream)\n",
    "print(\"data in = %s, after encryption = %s\" % (data_in, encoded))\n",
    "decoded = encr_bin_str(encoded, key_stream)  # note use of encryption algo to decrypt\n",
    "print(\"encoded = %s, after decryption = %s\" % (encoded, decoded))"
   ]
  },
  {
   "cell_type": "markdown",
   "metadata": {},
   "source": [
    "<a id='rngs'></a>\n",
    "**Fundamental issue:** The generation of key stream bits needs to be somehow related to randomness.<br>\n",
    "<h2>Random Number Generators (RNG):</h2><br>\n",
    "Three main types:<br>\n",
    "  1. **True Random Number Generator (TRNG):**<br>\n",
    "  True random numbers stem from randomness in some physical processes; E.g. Flipping a coin, roulette, noise (thermal), computer mouse movement, keystroke timing, radioactive decay, etc. The lack of repeatability of such randomness makes TRNG problematic for key generation (including of key streams).\n",
    "  2. **Pseudo-random Number Generator (PRNG):**<br>\n",
    "  PRNs are computed and, therefore, deterministic (not random). From certain points of view, however, they may appear random (unpredictable). Generally, they are not adequate for cryptographic use, despite being useful in many other areas of computing (e.g. some software testing). In practice, the output from many common PRNGs exhibit artifacts that cause them to fail statistical pattern-detection tests [[Wikipedia]](https://en.wikipedia.org/wiki/Pseudorandom_number_generator). They are often calculated using the formula; $s_0 =$ seed, $s_i+1 = f(s_i)$, recursively repeated.\n",
    "  3. **Cryptographically Secure PRNG (CPRNG):**<br>\n",
    "  Also computed and use an update function (recursion), like a PRNG, but additonally have the property that the numbers they produce <i>are</i> unpredictable. Specifically, this means that given $n$ consecutive bits of the key stream, there is no [polynomial time](http://mathworld.wolfram.com/PolynomialTime.html) algorithm that can predict the next bit $s_{n+1}$ with better than 50% chance of success. Informally, this definition is reduced to: it is computationally infeasible to compute $s_{n+1}$."
   ]
  },
  {
   "cell_type": "code",
   "execution_count": 6,
   "metadata": {},
   "outputs": [
    {
     "name": "stdout",
     "output_type": "stream",
     "text": [
      "enter a seed value (an integer): 5775\n",
      "\n",
      "pseudo-random sequence of 10 integers: \n",
      "[1216568604, 99966245, 997727994, 1525779627, 150417160, 163817121, 110702790, 2067417223, 424948660, 567479261]\n",
      "\n",
      "sequence in binary: \n",
      "['1001000100000110101110100011100', '101111101010101110100100101', '111011011110000001111011111010', '1011010111100011000110010101011', '1000111101110010111100001000', '1001110000111010011010100001', '110100110010011000011000110', '1111011001110100100100010000111', '11001010101000011001110110100', '100001110100110000101111011101']\n",
      "\n",
      "modulo (2^31) gives a maximum length of each value as 32 bits.\n"
     ]
    }
   ],
   "source": [
    "# Emulating rand() function in ANSI C, a linear congruential generator (LCG) generator (a type of PRNG). Fails if seed = 0.\n",
    "# Based on code from: http://pubs.opengroup.org/onlinepubs/009695399/functions/rand.html\n",
    "\n",
    "x = int(input(\"enter a seed value (an integer): \"))\n",
    "keystream = list(range(10))\n",
    "binary = list(range(10))\n",
    "\n",
    "for i in range (0, 10):\n",
    "    x = int((x * 1103515245 + 12345) % (2**31))\n",
    "    keystream[i] = x\n",
    "    binary[i] = get_binary(x)\n",
    "    \n",
    "print(\"\\npseudo-random sequence of 10 integers: \\n\", end='')\n",
    "print(keystream)\n",
    "print(\"\\nsequence in binary: \\n\", end='')\n",
    "print(binary)\n",
    "\n",
    "l = len(get_binary(2**31))\n",
    "print(\"\\nmodulo (2^31) gives a maximum length of each value as %d bits.\" % l)"
   ]
  },
  {
   "cell_type": "markdown",
   "metadata": {
    "collapsed": true
   },
   "source": [
    "<a id='one_time'></a>\n",
    "\n",
    "<h2>The One Time Pad (OTP):</h2><br>\n",
    "Goal: to build the 'perfect' cipher.<br>\n",
    "<br>\n",
    "**Definition:** a cipher is **'unconditionally secure'** (or information theoretically secure) if it cannot be broken even with <i>**infinite**</i> computing resources.<br>\n",
    "<br>\n",
    "The OTP is a stream cipher where:\n",
    "  1. The key stream bits stem from a TRNG.\n",
    "  2. Each key stream bit is used only once.\n",
    "  \n",
    "Of course, the problem now resides in how to communicate the key to the receiver, since the key is as long as the message!  E.g. encrypting a 400mb video file produces 3.8Gb of key. If the key is safely communicated, the key still needs to be kept safe, and it is potentially very large. Also, if the key is safely communicated, then, given the key is as big as the original data, why not simply communicate the original message using the same method considered viable for the key? Not only this, but the key also is non-reusable (one time) if security is to be maintained.\n",
    "Thus, we can see OTPs are useful in situations where the key can be communicated before the communication becomes threatened. For example, if a spy can carry a stash of pre-defined keys into an espionage situation before his or her communications are liekly to be intercepted, and can keep the keys safe / destroy them when used, this system may be very secure. For remote, network based encrytption, however, these stipulations normally cannot be met.\n",
    "Using the Linear Congruential Generator (LCG), which uses a keystream $s_i$ from a PRNG, looks more promising (but, eventually, will be shown to be inadequate):\n",
    "\n",
    "<a id='lcg'></a>\n",
    "### Linear Congruential Generator (LCG):\n",
    "- Example of simple PRNG (ANSII C rand() is an LCG):<br>\n",
    "<br>\n",
    "$S_0 = A\\cdot S_i+B, \\mod{m}$, where $A, B, S_i \\in Z m$<br>\n",
    "Key $K = (A, B)$<br>\n",
    "$A,B,S_i$ are $[log_2 m]$ bits long\n",
    "\n",
    "Unfortunately, this is easily attacked. If the attacker knows three plaintexts; $X_1, X_2, X_3$, (perhaps the document header is known, for example), then  simply by computing $S_1, S_2, S_3$, the constants in the LCG algorithm can be found:<br>\n",
    "<br>\n",
    "$A=(S_2-S_3)(S_1-S_2)^{-1}\\mod{m}$<br>\n",
    "$B=S_2-S_1(S_2-S_3)(S_1-S_2)^{-1}\\mod{m}$"
   ]
  },
  {
   "cell_type": "markdown",
   "metadata": {},
   "source": [
    "Further research [(Wikipedia)](https://en.wikipedia.org/wiki/Linear_congruential_generator) gives me more specifications: (paraphrased):\n",
    "\n",
    "When $B≠0$, correctly chosen parameters allow a period equal to $m$, for all seed values. This will occur if and only if:\n",
    "\n",
    "-  $m$ and the offset, $B$ are relatively prime,\n",
    "-  $A-1$ is divisible by all prime factors of $m$,\n",
    "-  $A-1$ is divisible by $4$ if $m$ is divisible by $4$.\n",
    "\n",
    "Thus, to use the algorithm containing$\\mod{2^{31}}$, given by the professor, I need to know all the prime factors of $2^{31}$ and then check $A-1$ is divisible by all. \n",
    "\n",
    "[A Wolfram Alpha tool](http://www.wolframalpha.com/widget/widgetPopup.jsp?p=v&id=8058bf500242562c0d031ff830ad094&title=Prime%20Factors&theme=&i0=2147483648&podSelect=) tells me there are $31$ prime factors in $2^{31}$, and all have a value of $2$. Since $A-1$ is even, this is divisible by all the prime factors of $2^{31}$."
   ]
  },
  {
   "cell_type": "markdown",
   "metadata": {},
   "source": [
    "### Encoding:\n",
    "Now, let's try encoding some plaintext with a stream cipher that ustilises LCG outputs.<br><br>\n",
    "Let us assume we know the first three plaintext characters are \"c\", \"a\" and \"t\", represented by the ASCII codes $99, 97$, and $116$, respectively. We first need to represent each value within the 32-bit binary space defined by our$\\mod{2^{31}}$"
   ]
  },
  {
   "cell_type": "code",
   "execution_count": 7,
   "metadata": {},
   "outputs": [
    {
     "name": "stdout",
     "output_type": "stream",
     "text": [
      "Thus, 'c', 'a', and 't', have the following 32-bit binary representations:\n",
      "['00000000000000000000000001100011', '00000000000000000000000001100001', '00000000000000000000000001110100']\n"
     ]
    }
   ],
   "source": [
    "# Convert decimal integers to 32-bit binary strings\n",
    "X = [99, 97, 116]  # ASCII values of \"c\", \"a\" and \"t\".\n",
    "Xbin = list(range(len(X)))\n",
    "\n",
    "def get_long_binary(x):\n",
    "    bin = get_binary(x)\n",
    "    digits = (len(bin))\n",
    "    for i in range (0, 32 - digits):\n",
    "        bin = \"0\" + bin\n",
    "\n",
    "    return bin\n",
    "\n",
    "for i in range (0, len(X)):\n",
    "    Xbin[i] = get_long_binary(X[i])\n",
    "\n",
    "print(\"Thus, 'c', 'a', and 't', have the following 32-bit binary representations:\")\n",
    "print(Xbin)"
   ]
  },
  {
   "cell_type": "markdown",
   "metadata": {},
   "source": [
    "Now, to encode these values, we simply need to XOR  each respective bit of binary plaintext value  with the respective bit of each respective LCG value. We can simply use the 32-bit binary representations of the PRNG values we generated above. To do this, we will also need to first make sure the LCG values are, indeed, 32 bits long:"
   ]
  },
  {
   "cell_type": "code",
   "execution_count": 8,
   "metadata": {},
   "outputs": [
    {
     "name": "stdout",
     "output_type": "stream",
     "text": [
      "X values:      ['00000000000000000000000001100011', '00000000000000000000000001100001', '00000000000000000000000001110100']\n",
      "LCG values:   ['01001000100000110101110100011100', '00000101111101010101110100100101', '00111011011110000001111011111010']\n",
      "stream values: ['01001000100000110101110101111111', '00000101111101010101110101000100', '00111011011110000001111010001110']\n",
      "decimal representation of stream values: [1216568703, 99966276, 997727886]\n"
     ]
    }
   ],
   "source": [
    "# Deriving S1, S2, S3, from keystream of 3 encoded values (ASCII codes):\n",
    "\n",
    "LCG_values = list(range(3))\n",
    "stream = list(range(3))\n",
    "decimal_encoded = list(range(3))\n",
    "\n",
    "for i in range (0,3):\n",
    "    LCG_values[i] = get_long_binary(keystream[i])\n",
    "    stream[i] = encr_bin_str(LCG_values[i], Xbin[i])\n",
    "    decimal_encoded[i] = int(stream[i], 2)\n",
    "    \n",
    "print(\"X values:      \", end=''); print(Xbin)\n",
    "print(\"LCG values:   \", end=''); print(LCG_values)\n",
    "print(\"stream values: \", end=''); print(stream)\n",
    "print(\"decimal representation of stream values: \", end=''); print(decimal_encoded)"
   ]
  },
  {
   "cell_type": "markdown",
   "metadata": {},
   "source": [
    "<a id='dvpa'></a>\n",
    "### Decryption (via plaintext attack):\n",
    "We can now derive the values of the LCG constants, $A$ and $B$ (as if attacking this system without knowledge of their values):"
   ]
  },
  {
   "cell_type": "code",
   "execution_count": 9,
   "metadata": {},
   "outputs": [
    {
     "name": "stdout",
     "output_type": "stream",
     "text": [
      "Previous encryption has given an encoding of 'cat' as S1, S2, and S3: 1216568604, 99966245, 997727994:\n",
      "\n",
      "A = 1103515245\n",
      "B = 12345\n",
      "\n",
      "We can also solve using S2, S3, and S4: 99966245, 997727994, 1525779627: \n",
      "\n",
      "A = 1103515245\n",
      "B = 12345\n"
     ]
    }
   ],
   "source": [
    "S1 = keystream[0]; S2 = keystream[1]; S3 = keystream[2]\n",
    "\n",
    "print(\"Previous encryption has given an encoding of 'cat' as S1, S2, and S3: %d, %d, %d:\\n\" % (S1, S2, S3))\n",
    "\n",
    "def egcd(a, b):  # Find extended euclidian gcd, for use in modinv(), below.\n",
    "    if a == 0:\n",
    "        return (b, 0, 1)\n",
    "    else:\n",
    "        g, y, x = egcd(b % a, a)\n",
    "        return (g, x - (b // a) * y, y)\n",
    "\n",
    "def modinv(a, m): # Find modular inverse, if one exists (and throw exception if not)\n",
    "    g, x, y = egcd(a, m)\n",
    "    if g != 1:\n",
    "        raise Exception('modular inverse does not exist')\n",
    "    else:\n",
    "        return x % m\n",
    "\n",
    "def find_A_B (S1, S2, S3):\n",
    "    p1 = (S2 - S3) % (2**31)\n",
    "    p2 = modinv(((S1 - S2) % (2**31)), 2**31)\n",
    "    A = (p1 * p2) % (2**31)  # A = (S2 - S3)(S1 - S2)^-1\n",
    "    B = (S2 - (S1 * A)) % 2**31  # B = S2 - S1(S2 - S3)(S1 - S2)^-1\n",
    "    return A, B\n",
    "\n",
    "A, B = find_A_B(S1, S2, S3)\n",
    "print(\"A = %d\\nB = %d\\n\" % (A, B))\n",
    "\n",
    "S1 = S2; S2 = S3; S3 = keystream[3]\n",
    "print(\"We can also solve using S2, S3, and S4: %d, %d, %d: \\n\" % (S1, S2, S3))\n",
    "\n",
    "A, B = find_A_B(S1, S2, S3)\n",
    "print(\"A = %d\\nB = %d\" % (A, B))"
   ]
  },
  {
   "cell_type": "markdown",
   "metadata": {},
   "source": [
    "To derive $A$ and $B$ from the cipher stream mathematically, an attacker needs to know, at least, 3 sequential plaintext characters in the original message. To decrypt the message; the ciphertext, knowledge of how many bits represent each encrypted character (32, in this case), and knowledge of, or an ability to discover, the beginnings / ends of the 32-bit character binary values, (when beginning / ends unknown: brute-force; max 32 iterations, ave. 16 <-- hmm, wouldn't this give false positives, with no way to check if resultant PRNG uses same settings as used for encoding? N.b not very relevant where message reception is near flawless) and accurate interception of the complete / large enough portions of the cipher stream are also needed.<br>\n",
    "<br>\n",
    "So what is the plaintext _really_ needed for? To complete the decryption of the rest of a message (beyond the known plaintext) and/or any other message sent using the same PRNG (with the same key settings and adequate known plaintext, as described above). Once the values of $A$ and $B$ are discovered, then any subsequent LCG value can be discovered if the previous value is known. _Because_ our attacker knows some plaintext, he or she can reverse engineer the respective ciphertream values to find the underlying LCG (keystream) values, thus facilitating the discovery of all subsequent keystream values, in turn facilitating decryption to plaintext by XOR of the respective cipher value with each respective keystream value. This also explains why knowledge of a file header plaintext, for example, might be ideal for decryption of more than one (possibly many) message(s). <br>\n",
    "<br>\n",
    "Time to put this all together in one big lump of code, methinks, including an actual message of some length (for encryption and then simulated decryption via attack)."
   ]
  },
  {
   "cell_type": "code",
   "execution_count": 16,
   "metadata": {
    "scrolled": false
   },
   "outputs": [
    {
     "name": "stdout",
     "output_type": "stream",
     "text": [
      "Enter a message to encrypt: this is the secret code; 1234567890 (genius, huh?)\n",
      "\n",
      "Encrypted message: 0110101110110011100010011001111000100100011100110011010010110011000110111000101001101011000100010111110101111110100000100010001001010110001110000101101010010110010000000110011001000011110111100110101010110110110001110101011101001010010101111111001010101101010110010110011101101100001101100001000100010001011001000011101100111100001010110011000111110101001011001101111000101010101010010111101010000100000010101111110100011101010000111111001011001010010011000011100111010110110111110110010101110101111001100011011100111101101110100100000111111111010111110110011100001010101111110110100000101011101000101000100000011100000100111010000110100010000010111110101011011101000010010100010101011001100010001100001101100110111011000100000100110001001010010111011110011000110001100010100100110111011010011101001001010010000011000000100001110010000000000111011000011110111100100011100000101001110001111100101000001000010011100011001100001010001111001101110011100101101010100010111111111110011001101101101001111001001101011110101010000010000001100111011001000101011100100010101010110100001111001000001000001100111000010000010111101000011010001010011101111101000100010101110001011011011011000011111001011100110111111110100111110000010001100100110010100111111000010101110111000101101110110000001101001111100110100011001111001011011100011010111110001000010001100010110110101110101101111000001101100011000011111010000101000101011100010000101111100111110011100001001011010000011101001110011101111011110111110110001101101001000100011111011111101011010011010111001111010010100101001100010100101101011010011100101010000010\n",
      "\n",
      "If an attacker knows (or guesses) an LCG, using mod 2^31, was used to create a keystream constituted of 32-bit encoding,\n",
      "AND knows 3 original plaintext values (and can locate them in cipher stream), then he or she can deduce the values\n",
      "of A and B in the PRNG algorithm:    A = 1103515245, B = 12345\n",
      "\n",
      "Now, an attacker has all that is needed to decode the entire cipher stream:\n",
      "\n",
      "Decoded message: this is the secret code; 1234567890 (genius, huh?)\n"
     ]
    }
   ],
   "source": [
    "# Encrytion and decryption (via attack) of LCG-based stream cipher\n",
    "# STAND-ALONE PROGRAM - runs independently of other code execution\n",
    "\n",
    "import numpy as np\n",
    "import pandas as pd\n",
    "from functools import reduce\n",
    "from math import gcd,log\n",
    "\n",
    "\n",
    "# ------------------------------ Encryption: ------------------------------------------------\n",
    "\n",
    "# message = input(\"Enter a message to encrypt: \")\n",
    "\n",
    "while True:\n",
    "    message = input(\"Enter a message to encrypt: \")\n",
    "    if len(message) > 2:\n",
    "        break\n",
    "    else:\n",
    "        print(\"\\nERROR! Message must be 3 or more characters long. Please try again.\\n\")\n",
    "\n",
    "ascii = list(range(len(message))) # list to hold integer ascii values of message chars\n",
    "for i in range (0, len(message)): # convert message chars to list of ascii value integers\n",
    "    ascii[i] = ord(message[i])\n",
    "    \n",
    "# print(\"Message as ascii code:\" ,end=' '); print(\", \".join('%d'%x for x in ascii))\n",
    "\n",
    "x = 56789 # seed for LCG\n",
    "\n",
    "keystream, binary = list(range(len(message))), list(range(len(message))) # lists for decimal & binary keystream values\n",
    "\n",
    "get_binary = lambda x: format(x, 'b') # useful function for converting integer to binary string\n",
    "\n",
    "for i in range (0, len(message)):  # LCG; calculate PRNs\n",
    "    x = int((x * 1103515245 + 12345) % (2**31))\n",
    "    keystream[i] = x\n",
    "    binary[i] = get_binary(x)\n",
    "\n",
    "Xbin = list(range(len(message)))  # list to hold 32-bit binary strings of message chars ascii values\n",
    "Pbin = list(range(len(message)))  # list to hold 32-bit binary strings of LCG PRN values\n",
    "\n",
    "def get_long_binary(a):  # Create 32-bit binary string from a decimal integer\n",
    "    bin = get_binary(a)\n",
    "    digits = (len(bin))\n",
    "    for i in range (0, 32 - digits):\n",
    "        bin = \"0\" + bin\n",
    "    return bin\n",
    "\n",
    "for i in range (0, len(message)):\n",
    "    Xbin[i] = get_long_binary(ascii[i])\n",
    "    Pbin[i] = get_long_binary(keystream[i])\n",
    "\n",
    "# Create cipher stream; S1, S2, S3, Sn+1 ... XOR binary PRN keystream with binary encoded values (ASCII codes):\n",
    "\n",
    "cipher = list(range(len(message))) # list to hold 32-bit binary strings of cipher stream values\n",
    "decimal_cipher = list(range(len(message)))  # list to hold decimal integer values of keystream values\n",
    "\n",
    "def get_XOR(a, b):\n",
    "    if a == b:\n",
    "        result = 0\n",
    "    else:\n",
    "        result = 1\n",
    "    return result\n",
    "\n",
    "def encr_bin_str(data_in, key_stream):\n",
    "    encoded = \"\"\n",
    "    for i in range(len(data_in) * -1, 0):\n",
    "        encoded = encoded + str(get_XOR(data_in[i], key_stream[i]))\n",
    "    return encoded\n",
    "\n",
    "for i in range (0, len(message)):\n",
    "    cipher[i] = encr_bin_str(Xbin[i], Pbin[i])\n",
    "    decimal_cipher[i] = int(cipher[i], 2)\n",
    "\n",
    "print(\"\\nEncrypted message: \", end=''); print(\"\".join('%s'%x for x in cipher))\n",
    "\n",
    "\n",
    "# ------------------------------ Decryption (via attack): ---------------------------------------\n",
    "\n",
    "# 1. XOR bits of 3 known plaintext 32-bit binary encodings with bits of 3 respective cipher 32-bit\n",
    "#    binary encodings to derive the respective PRNG stream decimal integer values:\n",
    "\n",
    "found_S = list(range(len(message))) # list of derived 32-bit binary LCG keystream values S1, S2, Sn+1, ...\n",
    "decimal_S = list(range(len(message))) # list of derived LCG keystream values as decimal integers\n",
    "for i in range (0, 3):          # use known 3 plaintext values to derive 1st 3 values of keystream\n",
    "    found_S[i] = encr_bin_str(Xbin[i], cipher[i])\n",
    "    decimal_S[i] = int(found_S[i], 2)\n",
    "    \n",
    "S1 = decimal_S[0]; S2 = decimal_S[1]; S3 = decimal_S[2]\n",
    "\n",
    "# 2. Derive A and B, using the 3 derived of keystream\n",
    "\n",
    "def egcd(a, b):  # Find extended euclidian gcd, for use in modinv (finds modular inverse)\n",
    "    if a == 0:\n",
    "        return (b, 0, 1)\n",
    "    else:\n",
    "        g, y, x = egcd(b % a, a)\n",
    "        return (g, x - (b // a) * y, y)\n",
    "\n",
    "def modinv(a, m): # Find modular inverse, if one exists (and throw exception if not)\n",
    "    g, x, y = egcd(a, m)\n",
    "    if g != 1:\n",
    "        raise Exception('modular inverse does not exist')\n",
    "    else:\n",
    "        return x % m\n",
    "\n",
    "def find_A_B (S1, S2, S3):\n",
    "    p1 = (S2 - S3) % (2**31)\n",
    "    p2 = modinv(((S1 - S2) % (2**31)), 2**31)\n",
    "    A = (p1 * p2) % (2**31)        # A = (S2 - S3)(S1 - S2)^-1\n",
    "    B = (S2 - (S1 * A)) % (2**31)  # B = S2 - S1(S2 - S3)(S1 - S2)^-1\n",
    "    return A, B\n",
    "\n",
    "A, B = find_A_B(S1, S2, S3)\n",
    "\n",
    "print(\"\\nIf an attacker knows (or guesses) an LCG, using mod 2^31, was used to create a keystream constituted of 32-bit encoding,\")\n",
    "print(\"AND knows 3 original plaintext values (and can locate them in cipher stream), then he or she can deduce the values\")\n",
    "print(\"of A and B in the PRNG algorithm:    A = %d, B = %d\" % (A, B))\n",
    "print(\"\\nNow, an attacker has all that is needed to decode the entire cipher stream:\\n\")\n",
    "\n",
    "# 3. Create remaining keystream values using LCG with newly discovered constants:\n",
    "\n",
    "x = decimal_S[2]  # Use last (of 3) derived LCG PRNs as seed to create subequent outputs of LCG\n",
    "for i in range (3, len(message)):\n",
    "    x = int((x * A + B) % (2**31))\n",
    "    decimal_S[i] = x\n",
    "    found_S[i] = get_long_binary(x)\n",
    "    \n",
    "# 4. XOR all found keystream values with all 32-bit binary cipher text values:\n",
    "\n",
    "binary_D = list(range(len(message)))  # list of decrypted cipher text as 32-bit binary strings\n",
    "ascii_D = list(range(len(message)))   # list of decrypted cipher text ascii values as decimal integers\n",
    "\n",
    "for i in range (0, len(message)):\n",
    "    binary_D[i] = encr_bin_str(cipher[i], found_S[i])\n",
    "    ascii_D[i] = int(binary_D[i], 2)\n",
    "    \n",
    "# 5. Convert decimal ascii values to characters:\n",
    "\n",
    "decrypted = \"\"  # string variable to hold decrypted message text\n",
    "for i in range (0, len(message)):\n",
    "    decrypted = decrypted + chr(ascii_D[i])\n",
    "    \n",
    "print (\"Decoded message: \" + decrypted)"
   ]
  },
  {
   "cell_type": "markdown",
   "metadata": {},
   "source": [
    "### Plaintext attack (steps):    \n",
    "1. Know or locate where the known plaintext begins in the cipher text stream\n",
    "2. XOR a 32-bit binary representation of the ascii value of each known plaintext character with the respective 32-bit cipher text block (minimum of 3 sequential plaintext characters must be known).\n",
    "3. Use the 3 derived keystream values (from 2, above) to derive the LCG constants, A and B.\n",
    "4. Use the third derived keystream value (from 2, above) and the known parameters of the LCG to create the necessary subsequent sequence of keystream values.\n",
    "5. XOR all 32-bit cipher text blocks with all respective derived keystream values to decrypt entire message."
   ]
  },
  {
   "cell_type": "markdown",
   "metadata": {},
   "source": [
    "**Further questions:**<br>\n",
    "1. What if the beggining / end of the keystream 32-bit binary 'character blocks' was not known? Would brute force stepping through the stream, bit by bit, produce false positive values for A and B, or?\n",
    "2. Similar to above, but what if the length (in bits) of the binary 'character blocks' was not known?\n",
    "3. If a long piece of plaintext is known (longer the better), then theoretically, if A and B are found, then all (complete , unbroken) ciphertext following the encrytped known plaintext can be decrypted.\n",
    "4. Right now it seems obvious that no values prior to the PRNs, deduced from knowledge of plaintext, can be found for message ciphertext before the known plaintext, but is this true? Can we generate 'backwards' with a PRNG?\n",
    "5. How does the egcd() and modinv() actually work? Probably need to study Extended Euclidian Algorithm further (maybe a nice YouTube video?)"
   ]
  },
  {
   "cell_type": "markdown",
   "metadata": {},
   "source": [
    "**To Do:**<br>\n",
    "<br>\n",
    "1. Add more 'contents' links: Linear Congruential Generator (LCG) / LCG Stream Cipher Decryption (via plaintext attack)"
   ]
  },
  {
   "cell_type": "markdown",
   "metadata": {},
   "source": [
    "<br>\n",
    "***\n",
    "<br>\n",
    "Notes on Lecture 4, [Introduction to Cryptography](https://www.youtube.com/channel/UC1usFRN4LCMcfIV7UjHNuQg/videos),by Christof Paar, and Chapter 2 (cont.), [Understanding Crpytography](https://www.amazon.com/Understanding-Cryptography-Christof-Paar-ebook/dp/B00HWUO98A), by Paar & Pletzl:<br>"
   ]
  },
  {
   "cell_type": "markdown",
   "metadata": {},
   "source": [
    "Refs:\n",
    "    \n",
    "Extended Euclidian Algo: http://anh.cs.luc.edu/331/notes/xgcd.pdf <br>\n",
    "Python Modular Inverse: https://stackoverflow.com/questions/4798654/modular-multiplicative-inverse-function-in-python"
   ]
  },
  {
   "cell_type": "markdown",
   "metadata": {
    "collapsed": true
   },
   "source": [
    "Document unfinished. In progress..."
   ]
  },
  {
   "cell_type": "markdown",
   "metadata": {
    "collapsed": true
   },
   "source": [
    "<center><a href='#top'>Back to top of document</a><br></center>"
   ]
  }
 ],
 "metadata": {
  "kernelspec": {
   "display_name": "Python 3",
   "language": "python",
   "name": "python3"
  },
  "language_info": {
   "codemirror_mode": {
    "name": "ipython",
    "version": 3
   },
   "file_extension": ".py",
   "mimetype": "text/x-python",
   "name": "python",
   "nbconvert_exporter": "python",
   "pygments_lexer": "ipython3",
   "version": "3.6.3"
  }
 },
 "nbformat": 4,
 "nbformat_minor": 2
}
