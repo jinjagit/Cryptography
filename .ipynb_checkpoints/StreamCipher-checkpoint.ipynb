{
 "cells": [
  {
   "cell_type": "markdown",
   "metadata": {},
   "source": [
    "<a id='top'></a>\n",
    "\n",
    "<h1>Stream Cipher</h1>\n",
    "<br>\n",
    "Notes on Lecture 3, [Introduction to Cryptography](https://www.youtube.com/channel/UC1usFRN4LCMcfIV7UjHNuQg/videos), by Christof Paar, and Chapter 2, [Understanding Crpytography](https://www.amazon.com/Understanding-Cryptography-Christof-Paar-ebook/dp/B00HWUO98A), by Paar & Pletzl:<br>\n",
    "<br>\n",
    "Note: Many notebook functions and diagrams are unavailable /  will not display in static views (like GitHub). [View 'live' on MyBinder](https://mybinder.org/v2/gh/jinjagit/Cryptography/master?filepath=StreamCipher.ipynb)"
   ]
  },
  {
   "cell_type": "code",
   "execution_count": null,
   "metadata": {},
   "outputs": [],
   "source": [
    "# Run this code cell for help on using 'live' notebooks\n",
    "f = open('HowTo.txt', 'r'); data = f.read(); print(data)"
   ]
  },
  {
   "cell_type": "markdown",
   "metadata": {},
   "source": [
    "<h2>Contents:</h2><br>\n",
    "<a href='#intro'>Introduction</a><br>\n",
    "<a href='#rngs'>Random Number Generators</a><br>\n",
    "<a href='#one_time'>The One Time Pad</a><br>"
   ]
  },
  {
   "cell_type": "markdown",
   "metadata": {},
   "source": [
    "**NOTE: The following code should be run before other code in this notebook is run** (imports necessary libraries):"
   ]
  },
  {
   "cell_type": "code",
   "execution_count": null,
   "metadata": {},
   "outputs": [],
   "source": [
    "%matplotlib inline \n",
    "import matplotlib\n",
    "import matplotlib.pyplot as plt\n",
    "import numpy as np\n",
    "import pandas as pd\n",
    "from ipywidgets import interact,FloatSlider,IntSlider\n",
    "from IPython.display import HTML as html_print\n",
    "\n",
    "print(\"libraries imported\")  # <- (re)run until output prints; may take a few seconds to run."
   ]
  },
  {
   "cell_type": "markdown",
   "metadata": {},
   "source": [
    "<a id='intro'></a>\n",
    "\n",
    "<h2>Introduction:</h2><br>"
   ]
  },
  {
   "cell_type": "markdown",
   "metadata": {},
   "source": [
    "<center><img src=diagrams/CryptoTree.svg / ></center>"
   ]
  },
  {
   "cell_type": "markdown",
   "metadata": {},
   "source": [
    "Note: GSM is used by all mobile phones, was developed in mid 1980s, and was first large-scale application of encrytpion. GSM uses a stream cipher to encrypt digital voice (audio) signals, before transmitting to base towers."
   ]
  },
  {
   "cell_type": "markdown",
   "metadata": {},
   "source": [
    "**Definition:** A stream cipher encrypts bits individually (as against a block cipher, which encodes blocks of bits), **by adding a bit from a <i>key stream</i> to a plaintext bit.**"
   ]
  },
  {
   "cell_type": "markdown",
   "metadata": {},
   "source": [
    "Usually, stream ciphers use very simple encrytption and decryption methods."
   ]
  },
  {
   "cell_type": "markdown",
   "metadata": {},
   "source": [
    "Each bit $\\Large{x_i}$ is encrypted by adding a secret key stream bit $\\Large{s_i}$, modulo 2."
   ]
  },
  {
   "cell_type": "markdown",
   "metadata": {
    "collapsed": true
   },
   "source": [
    "<center><img src=diagrams/asynchStream.svg / ></center>"
   ]
  },
  {
   "cell_type": "markdown",
   "metadata": {
    "collapsed": true
   },
   "source": [
    "Stream ciphers tend to be small and fast and are, therefore, relevant to applications that run in environments with relatively limited resources. In general, however, block ciphers are still used more frequenly for encrytping computer communications. Neither kind can claim better overall efficiency (of software = cycles; or hardware = fewer gates/smaller chip area)."
   ]
  },
  {
   "cell_type": "markdown",
   "metadata": {},
   "source": [
    "**Encryption and Decryption:**\n",
    "\n",
    "<i>The plaintext, ciphertext and key consist of individual bits;</i>\n",
    "\n",
    "$x_i, y_i, s_i\\in\\{1, 0\\}$\n",
    "\n",
    "**Encryption:** $y_i = e_{s_i}(x_i)\\equiv x_i + s_i\\mod{2}$<br></br>\n",
    "**Decryption:** $x_i = d_{s_i}(y_i)\\equiv y_i + s_i\\mod{2}$"
   ]
  },
  {
   "cell_type": "markdown",
   "metadata": {},
   "source": [
    "  1. Encryption and decryption are same functions!\n",
    "  2. Why can we use a simple modulo 2 addition as encrytpion?\n",
    "  3. What is the nature of the stream bits $\\large{s_i}$?"
   ]
  },
  {
   "cell_type": "markdown",
   "metadata": {},
   "source": [
    "**Proof:** that decryption uses same algorithm as encryption, by substitution of $\\large{y_i}$ in decryption algorithm with the encryption algorithm, $\\large{x_i + s_i}$ and further reduction of the resultant expression, thus:<br>\n",
    "<br>\n",
    "$d_{s_i}(y_i)\\equiv y_i + s_i\\mod{2}$ <br>\n",
    "$d_{s_i}(y_i)\\equiv (x_i + s_i) + s_i\\mod{2}$ <br>\n",
    "$d_{s_i}(y_i)\\equiv x_i + 2s_i\\mod{2}$ <br>\n",
    "$d_{s_i}(y_i)\\equiv x_i + 0\\mod{2}$ <br>\n",
    "$d_{s_i}(y_i)\\equiv x_i\\mod{2} \\;\\blacksquare$"
   ]
  },
  {
   "cell_type": "markdown",
   "metadata": {},
   "source": [
    "Thus, the reason that we can use simple modulo 2 addition as decryption, (as well as encryption), is that $x_i, y_i, s_i \\in\\{1, 0\\}$, and $x_i, y_i, s_i \\in Z 2$. In other words, because they are all bits and, therefore, can only have values of either $0$, or $1$."
   ]
  },
  {
   "cell_type": "markdown",
   "metadata": {},
   "source": [
    "**RULE:** Modulo 2 addition and subtraction are the same operation."
   ]
  },
  {
   "cell_type": "code",
   "execution_count": null,
   "metadata": {},
   "outputs": [],
   "source": [
    "# calculates a+b mod 2, and a-b mod 2\n",
    "\n",
    "a = int(input(\"enter 1st integer: \"))\n",
    "b = int(input(\"enter 2nd integer: \"))\n",
    "\n",
    "c = (a + b)%2\n",
    "d = (a - b)%2\n",
    "\n",
    "print(\"%d + %d, modulo 2 = %d\" % (a, b, c))\n",
    "print(\"%d - %d, modulo 2 = %d\" % (a, b, d))"
   ]
  },
  {
   "cell_type": "markdown",
   "metadata": {},
   "source": [
    "Thus, $\\;\\;\\;\\;d_{s_i}(y_i)\\equiv y_i + s_i\\mod{2}\\;\\;\\;\\;$ and $\\;\\;\\;\\;d_{s_i}(y_i)\\equiv y_i - s_i\\mod{2}\\;\\;\\;\\;$ are equivalent."
   ]
  },
  {
   "cell_type": "markdown",
   "metadata": {},
   "source": [
    "Consider the truth table for x, s and y:\n",
    "\n",
    "|        |  x  |  s  |  y = x + s  |  y = x - s  |\n",
    "|--------|-----|-----|-------------|-------------|\n",
    "| case 1 |  0  |  0  |      0      |      0      |\n",
    "| case 2 |  0  |  1  |      1      |      1      |\n",
    "| case 3 |  1  |  0  |      1      |      1      |\n",
    "| case 4 |  1  |  1  |      0      |      0      |"
   ]
  },
  {
   "cell_type": "markdown",
   "metadata": {},
   "source": [
    "The above represents an [XOR](https://en.wikipedia.org/wiki/XOR_gate) binary gate, executed using either addition or subtraction in modulo 2.<br>\n",
    "An XOR gate implements an exclusive **or**; that is, a true output results if one, and only one, of the inputs to the gate is true."
   ]
  },
  {
   "cell_type": "markdown",
   "metadata": {},
   "source": [
    "Idea: To apply modulo 2 to any binary integer value, we need only read the value of the last bit, (0 or 1), which gives the modulo 2 value of the integer. Not a great insight, as really it is another way of saying that the nature of binary means the 'units' digit of any integer will equal the modulo 2 value. This is true of the units digit for any base where a modulo of the same value as the base is applied (e.g. base 10 modulo 10). With binary, however, there is also the advantage that reading a single bit from memory is probably generally faster than doing modulo math on an integer. However, <i>I imagine</i> most decent math libraries / languages exploit this fact when performing modulo 2 math on an integer (but, I do not know this)."
   ]
  },
  {
   "cell_type": "code",
   "execution_count": null,
   "metadata": {},
   "outputs": [],
   "source": [
    "# compare modulo 2 representation of an integer with the last digit of its binary representation\n",
    "\n",
    "a = int(input(\"enter integer: \"))\n",
    "\n",
    "get_binary = lambda x: format(x, 'b') # useful function for converting integer to binary string\n",
    "\n",
    "binary = get_binary(a)\n",
    "last_digit = binary[-1:]\n",
    "mod2 = a%2\n",
    "\n",
    "print(\"binary representation: \" + binary)\n",
    "print(\"last binary digit: \" + last_digit)\n",
    "print(\"%d modulo 2 = %d modulo 2\" % (a, mod2))"
   ]
  },
  {
   "cell_type": "markdown",
   "metadata": {
    "collapsed": true
   },
   "source": [
    "<center><img src=diagrams/streamBasic.svg / ></center>"
   ]
  },
  {
   "cell_type": "markdown",
   "metadata": {
    "collapsed": true
   },
   "source": [
    "Considering the above truth table and its consequences, we can see that <i>if the probability of any stream bit $s_i$ being $1$ or $0$ is equal,</i> then the encoding of either $x_i = 0$, or $x_i = 1$, has an equal chance of giving $y_i = 0$, or $y_i = 1$, in either case.<br>\n",
    "<br>\n",
    "**Flipping bits:** Also, the value of the stream bit has a particular effect on the $x$ value provided: $s = 1$ will always flip the input bit; $0\\,\\to\\,1$, or $1\\,\\to\\,0$, whereas $s = 0$ will not change the input bit.<br>\n",
    "  As there are two modulo 2 addition (XOR) operations in the encoding/decoding stream, each using $s_i$ to enccode $x_i$ and decode $y_i$, $x_i$ is eventually either flipped twice; if $s_i =1$, or not at all; if $s_i =0$."
   ]
  },
  {
   "cell_type": "code",
   "execution_count": null,
   "metadata": {},
   "outputs": [],
   "source": [
    "# XOR on 4 cases of x + s, applied twice to emulate encryption and decryption of single bits.\n",
    "# Note the replacement of modular arithmetic with a single XOR operation.\n",
    "\n",
    "def get_XOR(x, s):\n",
    "    if x == s:\n",
    "        y = 0\n",
    "    else:\n",
    "        y = 1\n",
    "    return y\n",
    "\n",
    "a = str(get_XOR(0,0))\n",
    "b = str(get_XOR(1,0))\n",
    "c = str(get_XOR(0,1))\n",
    "d = str(get_XOR(1,1))\n",
    "\n",
    "def col_str(s):  # use html to print color output (white text on blue background)\n",
    "    return \"<text style=color:white;background-color:blue>{}</text>\".format(s)\n",
    "\n",
    "def bl_sp(s):  # use html to print blue space (blue text on blue background)\n",
    "    return \"<text style=color:blue;background-color:blue>{}</text>\".format(s)\n",
    "\n",
    "html_print(\"encrypt \" + bl_sp('.') + col_str('0') + bl_sp('.') + \" with s = 0 -> \" + a + \n",
    "           \" ... decrypt \" + a + \" with s = 0 -> \" + bl_sp('.') + col_str(a) + bl_sp('.') + \"</br>\"\n",
    "           + \"encrypt \" + bl_sp('.') + col_str('1') + bl_sp('.') + \" with s = 0 -> \" + b +\n",
    "           \" ... decrypt \" + b + \" with s = 0 -> \" + bl_sp('.') + col_str(b) + bl_sp('.') + \"</br>\"\n",
    "           + \"encrypt \" + bl_sp('.') + col_str('0') + bl_sp('.') + \" with s = 1 -> \" + c +\n",
    "           \" ... decrypt \" + c + \" with s = 1 -> \" + bl_sp('.') + col_str(d) + bl_sp('.') + \"</br>\"\n",
    "           + \"encrypt \" + bl_sp('.') + col_str('1') + bl_sp('.') + \" with s = 1 -> \" + d +\n",
    "           \" ... decrypt \" + d + \" with s = 1 -> \" + bl_sp('.') + col_str(c) + bl_sp('.'))"
   ]
  },
  {
   "cell_type": "markdown",
   "metadata": {},
   "source": [
    "Example: Encoding the ASCII character \"A\":\n",
    "\n",
    "It's number 65 in the ASCII table, which is 1000001 in binary.\n",
    "We apply a pre-defined stream of 0101101:\n",
    "\n",
    "$x_7...x_1$ $= 1000001$ <br>\n",
    "$s_7...s_1$ $= 0101101$"
   ]
  },
  {
   "cell_type": "code",
   "execution_count": null,
   "metadata": {},
   "outputs": [],
   "source": [
    "# Encrypting an ASCII 'A' in binary (requires previous code cell to have run)\n",
    "\n",
    "def encr_bin_str(data_in, key_stream):\n",
    "    encoded = \"\"\n",
    "    for i in range(len(data_in) * -1, 0):\n",
    "        encoded = encoded + str(get_XOR(data_in[i], key_stream[i]))\n",
    "        \n",
    "    return encoded\n",
    "\n",
    "data_in = \"1000001\"\n",
    "key_stream = \"0101101\"\n",
    "\n",
    "encoded = encr_bin_str(data_in, key_stream)\n",
    "print(\"data in = %s, after encryption = %s\" % (data_in, encoded))\n",
    "decoded = encr_bin_str(encoded, key_stream)  # note use of encryption algo to decrypt\n",
    "print(\"encoded = %s, after decryption = %s\" % (encoded, decoded))"
   ]
  },
  {
   "cell_type": "markdown",
   "metadata": {},
   "source": [
    "<a id='rngs'></a>\n",
    "\n",
    "The generation of key stream bits needs to be somehow related to randomness.<br>\n",
    "<br>\n",
    "<br>\n",
    "<h2>Random Number Generators (RNG):</h2><br>\n",
    "Three main types:<br>\n",
    "  1. **True Random Number Generator (TRNG):**<br>\n",
    "  True random numbers stem from randomness in some physical processes; E.g. Flipping a coin, roulette, noise (thermal), computer mouse movement, keystroke timing, radioactive decay, etc. The lack of repeatability of such randomness makes TRNG problematic for key generation (including of key streams).\n",
    "  2. **Pseudo-random Number Generator (PRNG):**<br>\n",
    "  PRNs are computed and, therefore, deterministic (not random). From certain points of view, however, they may appear random (unpredictable). Generally, they are not adequate for cryptographic use, despite being useful in many other areas of computing (e.g. some software testing). In practice, the output from many common PRNGs exhibit artifacts that cause them to fail statistical pattern-detection tests [[Wikipedia]](https://en.wikipedia.org/wiki/Pseudorandom_number_generator). They are often calculated using the formula; $s_0 =$ seed, $s_i+1 = f(s_i)$, recursively repeated.\n",
    "  3. **Cryptographically Secure PRNG (CPRNG):**<br>\n",
    "  Also computed and use an update function (recursion), like a PRNG, but additonally have the property that the numbers they produce <i>are</i> unpredictable. Specifically, this means that given $n$ consecutive bits of the key stream, there is no [polynomial time](http://mathworld.wolfram.com/PolynomialTime.html) algorithm that can predict the next bit $s_{n+1}$ with better than 50% chance of success. Informally, this definition is reduced to: it is computationally infeasible to compute $s_{n+1}$."
   ]
  },
  {
   "cell_type": "code",
   "execution_count": null,
   "metadata": {},
   "outputs": [],
   "source": [
    "# Emulating rand() function in ANSI C, a pseudo-random number generator. Fails if seed = 0.\n",
    "# Based on code from: http://pubs.opengroup.org/onlinepubs/009695399/functions/rand.html\n",
    "\n",
    "x = int(input(\"enter a seed value (an integer): \"))\n",
    "print(\"pseudo-random sequence of 10 integers: \", end='')\n",
    "binary = \"\"\n",
    "\n",
    "for i in range (0, 10):\n",
    "    x = int((x * 1103515245 + 12345)/65536) % 32768  # RAND_MAX assumed to be 32767.\n",
    "    print(x, end=' ')\n",
    "    binary = binary + str(x % 2)\n",
    "    \n",
    "print(\"\\nPRNG binary from integer sequence: \" + binary)"
   ]
  },
  {
   "cell_type": "markdown",
   "metadata": {},
   "source": [
    "Note: I don't understand why the numbers 65536 and 32768 appear to work well, (one is 2 * the other), but larger numbers fail, (even if the 2:1 ratio is maintained), nor why the algorithm containing$\\mod{2^{31}}$, given by the professor, does not work. Also, the output isn't very random-like.\n",
    "<span style=color:white;background-color:orange>Need to study further.</span>"
   ]
  },
  {
   "cell_type": "markdown",
   "metadata": {
    "collapsed": true
   },
   "source": [
    "<a id='one_time'></a>\n",
    "\n",
    "<h2>The One Time Pad (OTP):</h2><br>\n",
    "Goal: to build the 'perfect' cipher.<br>\n",
    "<br>\n",
    "**Definition:** a cipher is **'unconditionally secure'** (or information theoretically secure) if it cannot be broken even with <i>**infinite**</i> computing resources.<br>\n",
    "<br>\n",
    "The OTP is a stream cipher where:\n",
    "  1. The key stream bits stem from a TRNG.\n",
    "  2. Each key stream bit is used only once.\n",
    "  \n",
    "Of course, the problem now resides in how to communicate the key to the receiver, since the key is as long as the message!  (e.g. encrypting a 400mb video file produces 3.8Gb of key). If the key is safely communicated, the key still needs to be kept safe (and it is probably very large). Not only this, but the key also is non-reusable (one time) if security is to be maintained."
   ]
  },
  {
   "cell_type": "markdown",
   "metadata": {
    "collapsed": true
   },
   "source": [
    "Document unfinished. In progress..."
   ]
  },
  {
   "cell_type": "markdown",
   "metadata": {
    "collapsed": true
   },
   "source": [
    "<center><a href='#top'>Back to top of document</a><br></center>"
   ]
  }
 ],
 "metadata": {
  "kernelspec": {
   "display_name": "Python 3",
   "language": "python",
   "name": "python3"
  },
  "language_info": {
   "codemirror_mode": {
    "name": "ipython",
    "version": 3
   },
   "file_extension": ".py",
   "mimetype": "text/x-python",
   "name": "python",
   "nbconvert_exporter": "python",
   "pygments_lexer": "ipython3",
   "version": "3.6.3"
  }
 },
 "nbformat": 4,
 "nbformat_minor": 2
}
