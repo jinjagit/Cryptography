{
 "cells": [
  {
   "cell_type": "markdown",
   "metadata": {},
   "source": [
    " # How to use these notebooks:\n",
    "\n",
    "## Use a 'live' view:\n",
    "\n",
    "Many Jupyter notebooks can be adequately viewed using a static view, like GitHub provides, but most of my notebooks here (excluding this one) contain code and other items that will not load / run correctly, or at all, in a static view.\n",
    "\n",
    "[click here to view this notebook 'live' on MyBinder](https://mybinder.org/v2/gh/jinjagit/Cryptography/master?filepath=HowTo.ipynb)\n",
    "\n",
    "To view a 'live' version of a notebook:\n",
    "\n",
    "1. Use the MyBinder link and wait for server to load, or install Jupyter locally, download and open the notebook.\n",
    "\n",
    "2. Make sure notebook is 'trusted' (if not; click 'not trusted' in toolbar and select 'trusted').\n",
    "\n",
    "3. Run all code blocks in the order they are presented here, especially the following code block (imports necessary libraries).\n",
    "\n",
    "Note: Much code depends on functions defined in previous code cells (but not all). Simply running a code cel may not ensure all functions it includes are defined, since some may not run until an input is provided.\n",
    "i.e. 'fully running' a code cell includes providing satisfactory input(s) and the production of all related output(s).\n",
    "\n",
    "4. MyBinder allegedly provides only 30 minutes maximum of access. Reload if time expires."
   ]
  },
  {
   "cell_type": "markdown",
   "metadata": {},
   "source": [
    "If there is a (beautiful) diagram below, you are running a 'live' version of this notebook! If not, you are probably viewing a static version (on GitHub?).<br>\n",
    "<br>\n",
    "<center><img src=diagrams/testDiag.svg / ></center>"
   ]
  },
  {
   "cell_type": "code",
   "execution_count": null,
   "metadata": {
    "collapsed": true
   },
   "outputs": [],
   "source": []
  }
 ],
 "metadata": {
  "kernelspec": {
   "display_name": "Python 3",
   "language": "python",
   "name": "python3"
  },
  "language_info": {
   "codemirror_mode": {
    "name": "ipython",
    "version": 3
   },
   "file_extension": ".py",
   "mimetype": "text/x-python",
   "name": "python",
   "nbconvert_exporter": "python",
   "pygments_lexer": "ipython3",
   "version": "3.6.3"
  }
 },
 "nbformat": 4,
 "nbformat_minor": 2
}
